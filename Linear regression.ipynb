{
 "cells": [
  {
   "cell_type": "markdown",
   "metadata": {},
   "source": [
    "# Linear Regression"
   ]
  },
  {
   "cell_type": "markdown",
   "metadata": {},
   "source": [
    "### Importing packages"
   ]
  },
  {
   "cell_type": "code",
   "execution_count": 33,
   "metadata": {},
   "outputs": [],
   "source": [
    "import pandas as pd\n",
    "import seaborn as sns"
   ]
  },
  {
   "cell_type": "code",
   "execution_count": 14,
   "metadata": {},
   "outputs": [],
   "source": [
    "import numpy as np\n",
    "import pandas as pd\n",
    "import matplotlib.pyplot as plt\n",
    "%matplotlib inline"
   ]
  },
  {
   "cell_type": "markdown",
   "metadata": {},
   "source": [
    "import numpy as np\n",
    "import pandas as pd\n",
    "import matplotlib.pyplot as plt\n",
    "%matplotlib inline"
   ]
  },
  {
   "cell_type": "code",
   "execution_count": 15,
   "metadata": {},
   "outputs": [],
   "source": [
    "import statsmodels"
   ]
  },
  {
   "cell_type": "code",
   "execution_count": 16,
   "metadata": {},
   "outputs": [],
   "source": [
    "from scipy.stats import iqr"
   ]
  },
  {
   "cell_type": "code",
   "execution_count": 17,
   "metadata": {},
   "outputs": [],
   "source": [
    "import matplotlib as plt"
   ]
  },
  {
   "cell_type": "markdown",
   "metadata": {},
   "source": [
    "### Loading Dataset"
   ]
  },
  {
   "cell_type": "code",
   "execution_count": 18,
   "metadata": {},
   "outputs": [],
   "source": [
    "data = pd.read_csv('salary.csv')"
   ]
  },
  {
   "cell_type": "code",
   "execution_count": 19,
   "metadata": {},
   "outputs": [
    {
     "data": {
      "text/html": [
       "<div>\n",
       "<style scoped>\n",
       "    .dataframe tbody tr th:only-of-type {\n",
       "        vertical-align: middle;\n",
       "    }\n",
       "\n",
       "    .dataframe tbody tr th {\n",
       "        vertical-align: top;\n",
       "    }\n",
       "\n",
       "    .dataframe thead th {\n",
       "        text-align: right;\n",
       "    }\n",
       "</style>\n",
       "<table border=\"1\" class=\"dataframe\">\n",
       "  <thead>\n",
       "    <tr style=\"text-align: right;\">\n",
       "      <th></th>\n",
       "      <th>salary</th>\n",
       "      <th>exprior</th>\n",
       "      <th>yearsworked</th>\n",
       "      <th>yearsrank</th>\n",
       "      <th>market</th>\n",
       "      <th>degree</th>\n",
       "      <th>otherqual</th>\n",
       "      <th>position</th>\n",
       "      <th>male</th>\n",
       "      <th>Field</th>\n",
       "      <th>yearsabs</th>\n",
       "    </tr>\n",
       "  </thead>\n",
       "  <tbody>\n",
       "    <tr>\n",
       "      <td>0</td>\n",
       "      <td>53000.0</td>\n",
       "      <td>0</td>\n",
       "      <td>0</td>\n",
       "      <td>0</td>\n",
       "      <td>1.17</td>\n",
       "      <td>1</td>\n",
       "      <td>0</td>\n",
       "      <td>1</td>\n",
       "      <td>1</td>\n",
       "      <td>3</td>\n",
       "      <td>0</td>\n",
       "    </tr>\n",
       "    <tr>\n",
       "      <td>1</td>\n",
       "      <td>58000.0</td>\n",
       "      <td>1</td>\n",
       "      <td>0</td>\n",
       "      <td>0</td>\n",
       "      <td>1.24</td>\n",
       "      <td>1</td>\n",
       "      <td>0</td>\n",
       "      <td>1</td>\n",
       "      <td>1</td>\n",
       "      <td>2</td>\n",
       "      <td>0</td>\n",
       "    </tr>\n",
       "    <tr>\n",
       "      <td>2</td>\n",
       "      <td>45500.0</td>\n",
       "      <td>0</td>\n",
       "      <td>0</td>\n",
       "      <td>0</td>\n",
       "      <td>1.21</td>\n",
       "      <td>1</td>\n",
       "      <td>0</td>\n",
       "      <td>1</td>\n",
       "      <td>1</td>\n",
       "      <td>3</td>\n",
       "      <td>2</td>\n",
       "    </tr>\n",
       "    <tr>\n",
       "      <td>3</td>\n",
       "      <td>35782.0</td>\n",
       "      <td>0</td>\n",
       "      <td>2</td>\n",
       "      <td>1</td>\n",
       "      <td>0.99</td>\n",
       "      <td>1</td>\n",
       "      <td>0</td>\n",
       "      <td>1</td>\n",
       "      <td>1</td>\n",
       "      <td>4</td>\n",
       "      <td>1</td>\n",
       "    </tr>\n",
       "    <tr>\n",
       "      <td>4</td>\n",
       "      <td>34731.0</td>\n",
       "      <td>0</td>\n",
       "      <td>2</td>\n",
       "      <td>2</td>\n",
       "      <td>0.91</td>\n",
       "      <td>1</td>\n",
       "      <td>0</td>\n",
       "      <td>1</td>\n",
       "      <td>1</td>\n",
       "      <td>4</td>\n",
       "      <td>1</td>\n",
       "    </tr>\n",
       "  </tbody>\n",
       "</table>\n",
       "</div>"
      ],
      "text/plain": [
       "    salary  exprior  yearsworked  yearsrank  market  degree  otherqual  \\\n",
       "0  53000.0        0            0          0    1.17       1          0   \n",
       "1  58000.0        1            0          0    1.24       1          0   \n",
       "2  45500.0        0            0          0    1.21       1          0   \n",
       "3  35782.0        0            2          1    0.99       1          0   \n",
       "4  34731.0        0            2          2    0.91       1          0   \n",
       "\n",
       "   position  male  Field  yearsabs  \n",
       "0         1     1      3         0  \n",
       "1         1     1      2         0  \n",
       "2         1     1      3         2  \n",
       "3         1     1      4         1  \n",
       "4         1     1      4         1  "
      ]
     },
     "execution_count": 19,
     "metadata": {},
     "output_type": "execute_result"
    }
   ],
   "source": [
    "data.head()"
   ]
  },
  {
   "cell_type": "code",
   "execution_count": 20,
   "metadata": {},
   "outputs": [
    {
     "data": {
      "text/plain": [
       "salary         1\n",
       "exprior        0\n",
       "yearsworked    0\n",
       "yearsrank      0\n",
       "market         0\n",
       "degree         0\n",
       "otherqual      0\n",
       "position       0\n",
       "male           0\n",
       "Field          0\n",
       "yearsabs       0\n",
       "dtype: int64"
      ]
     },
     "execution_count": 20,
     "metadata": {},
     "output_type": "execute_result"
    }
   ],
   "source": [
    "data.isna().sum()"
   ]
  },
  {
   "cell_type": "markdown",
   "metadata": {},
   "source": [
    "### Cleaning data"
   ]
  },
  {
   "cell_type": "code",
   "execution_count": 21,
   "metadata": {},
   "outputs": [],
   "source": [
    "data =data.drop_duplicates()"
   ]
  },
  {
   "cell_type": "code",
   "execution_count": 22,
   "metadata": {},
   "outputs": [],
   "source": [
    "data['salary'].fillna(data['salary'].mean(),inplace=True)"
   ]
  },
  {
   "cell_type": "markdown",
   "metadata": {},
   "source": [
    "*Replacing the null value in salary with mean value*"
   ]
  },
  {
   "cell_type": "markdown",
   "metadata": {},
   "source": [
    "### Correlation of features"
   ]
  },
  {
   "cell_type": "code",
   "execution_count": 12,
   "metadata": {},
   "outputs": [
    {
     "data": {
      "text/html": [
       "<style  type=\"text/css\" >\n",
       "    #T_3b89814a_465b_11ea_819e_5fe271921f8crow0_col0 {\n",
       "            background-color:  #b40426;\n",
       "            color:  #f1f1f1;\n",
       "        }    #T_3b89814a_465b_11ea_819e_5fe271921f8crow0_col1 {\n",
       "            background-color:  #9dbdff;\n",
       "            color:  #000000;\n",
       "        }    #T_3b89814a_465b_11ea_819e_5fe271921f8crow0_col2 {\n",
       "            background-color:  #f7ac8e;\n",
       "            color:  #000000;\n",
       "        }    #T_3b89814a_465b_11ea_819e_5fe271921f8crow0_col3 {\n",
       "            background-color:  #f7af91;\n",
       "            color:  #000000;\n",
       "        }    #T_3b89814a_465b_11ea_819e_5fe271921f8crow0_col4 {\n",
       "            background-color:  #e0dbd8;\n",
       "            color:  #000000;\n",
       "        }    #T_3b89814a_465b_11ea_819e_5fe271921f8crow0_col5 {\n",
       "            background-color:  #80a3fa;\n",
       "            color:  #000000;\n",
       "        }    #T_3b89814a_465b_11ea_819e_5fe271921f8crow0_col6 {\n",
       "            background-color:  #a3c2fe;\n",
       "            color:  #000000;\n",
       "        }    #T_3b89814a_465b_11ea_819e_5fe271921f8crow0_col7 {\n",
       "            background-color:  #f29274;\n",
       "            color:  #000000;\n",
       "        }    #T_3b89814a_465b_11ea_819e_5fe271921f8crow0_col8 {\n",
       "            background-color:  #f2c9b4;\n",
       "            color:  #000000;\n",
       "        }    #T_3b89814a_465b_11ea_819e_5fe271921f8crow0_col9 {\n",
       "            background-color:  #3b4cc0;\n",
       "            color:  #f1f1f1;\n",
       "        }    #T_3b89814a_465b_11ea_819e_5fe271921f8crow0_col10 {\n",
       "            background-color:  #adc9fd;\n",
       "            color:  #000000;\n",
       "        }    #T_3b89814a_465b_11ea_819e_5fe271921f8crow1_col0 {\n",
       "            background-color:  #c4d5f3;\n",
       "            color:  #000000;\n",
       "        }    #T_3b89814a_465b_11ea_819e_5fe271921f8crow1_col1 {\n",
       "            background-color:  #b40426;\n",
       "            color:  #f1f1f1;\n",
       "        }    #T_3b89814a_465b_11ea_819e_5fe271921f8crow1_col2 {\n",
       "            background-color:  #3e51c5;\n",
       "            color:  #f1f1f1;\n",
       "        }    #T_3b89814a_465b_11ea_819e_5fe271921f8crow1_col3 {\n",
       "            background-color:  #6c8ff1;\n",
       "            color:  #000000;\n",
       "        }    #T_3b89814a_465b_11ea_819e_5fe271921f8crow1_col4 {\n",
       "            background-color:  #6b8df0;\n",
       "            color:  #000000;\n",
       "        }    #T_3b89814a_465b_11ea_819e_5fe271921f8crow1_col5 {\n",
       "            background-color:  #6485ec;\n",
       "            color:  #000000;\n",
       "        }    #T_3b89814a_465b_11ea_819e_5fe271921f8crow1_col6 {\n",
       "            background-color:  #bfd3f6;\n",
       "            color:  #000000;\n",
       "        }    #T_3b89814a_465b_11ea_819e_5fe271921f8crow1_col7 {\n",
       "            background-color:  #a3c2fe;\n",
       "            color:  #000000;\n",
       "        }    #T_3b89814a_465b_11ea_819e_5fe271921f8crow1_col8 {\n",
       "            background-color:  #c4d5f3;\n",
       "            color:  #000000;\n",
       "        }    #T_3b89814a_465b_11ea_819e_5fe271921f8crow1_col9 {\n",
       "            background-color:  #9ebeff;\n",
       "            color:  #000000;\n",
       "        }    #T_3b89814a_465b_11ea_819e_5fe271921f8crow1_col10 {\n",
       "            background-color:  #d4dbe6;\n",
       "            color:  #000000;\n",
       "        }    #T_3b89814a_465b_11ea_819e_5fe271921f8crow2_col0 {\n",
       "            background-color:  #f49a7b;\n",
       "            color:  #000000;\n",
       "        }    #T_3b89814a_465b_11ea_819e_5fe271921f8crow2_col1 {\n",
       "            background-color:  #3b4cc0;\n",
       "            color:  #f1f1f1;\n",
       "        }    #T_3b89814a_465b_11ea_819e_5fe271921f8crow2_col2 {\n",
       "            background-color:  #b40426;\n",
       "            color:  #f1f1f1;\n",
       "        }    #T_3b89814a_465b_11ea_819e_5fe271921f8crow2_col3 {\n",
       "            background-color:  #e36b54;\n",
       "            color:  #000000;\n",
       "        }    #T_3b89814a_465b_11ea_819e_5fe271921f8crow2_col4 {\n",
       "            background-color:  #6180e9;\n",
       "            color:  #000000;\n",
       "        }    #T_3b89814a_465b_11ea_819e_5fe271921f8crow2_col5 {\n",
       "            background-color:  #7b9ff9;\n",
       "            color:  #000000;\n",
       "        }    #T_3b89814a_465b_11ea_819e_5fe271921f8crow2_col6 {\n",
       "            background-color:  #6788ee;\n",
       "            color:  #000000;\n",
       "        }    #T_3b89814a_465b_11ea_819e_5fe271921f8crow2_col7 {\n",
       "            background-color:  #ed8366;\n",
       "            color:  #000000;\n",
       "        }    #T_3b89814a_465b_11ea_819e_5fe271921f8crow2_col8 {\n",
       "            background-color:  #ead4c8;\n",
       "            color:  #000000;\n",
       "        }    #T_3b89814a_465b_11ea_819e_5fe271921f8crow2_col9 {\n",
       "            background-color:  #6c8ff1;\n",
       "            color:  #000000;\n",
       "        }    #T_3b89814a_465b_11ea_819e_5fe271921f8crow2_col10 {\n",
       "            background-color:  #c5d6f2;\n",
       "            color:  #000000;\n",
       "        }    #T_3b89814a_465b_11ea_819e_5fe271921f8crow3_col0 {\n",
       "            background-color:  #f59d7e;\n",
       "            color:  #000000;\n",
       "        }    #T_3b89814a_465b_11ea_819e_5fe271921f8crow3_col1 {\n",
       "            background-color:  #6788ee;\n",
       "            color:  #000000;\n",
       "        }    #T_3b89814a_465b_11ea_819e_5fe271921f8crow3_col2 {\n",
       "            background-color:  #e36b54;\n",
       "            color:  #000000;\n",
       "        }    #T_3b89814a_465b_11ea_819e_5fe271921f8crow3_col3 {\n",
       "            background-color:  #b40426;\n",
       "            color:  #f1f1f1;\n",
       "        }    #T_3b89814a_465b_11ea_819e_5fe271921f8crow3_col4 {\n",
       "            background-color:  #6e90f2;\n",
       "            color:  #000000;\n",
       "        }    #T_3b89814a_465b_11ea_819e_5fe271921f8crow3_col5 {\n",
       "            background-color:  #7597f6;\n",
       "            color:  #000000;\n",
       "        }    #T_3b89814a_465b_11ea_819e_5fe271921f8crow3_col6 {\n",
       "            background-color:  #7597f6;\n",
       "            color:  #000000;\n",
       "        }    #T_3b89814a_465b_11ea_819e_5fe271921f8crow3_col7 {\n",
       "            background-color:  #f2cbb7;\n",
       "            color:  #000000;\n",
       "        }    #T_3b89814a_465b_11ea_819e_5fe271921f8crow3_col8 {\n",
       "            background-color:  #e4d9d2;\n",
       "            color:  #000000;\n",
       "        }    #T_3b89814a_465b_11ea_819e_5fe271921f8crow3_col9 {\n",
       "            background-color:  #6c8ff1;\n",
       "            color:  #000000;\n",
       "        }    #T_3b89814a_465b_11ea_819e_5fe271921f8crow3_col10 {\n",
       "            background-color:  #c1d4f4;\n",
       "            color:  #000000;\n",
       "        }    #T_3b89814a_465b_11ea_819e_5fe271921f8crow4_col0 {\n",
       "            background-color:  #f2cab5;\n",
       "            color:  #000000;\n",
       "        }    #T_3b89814a_465b_11ea_819e_5fe271921f8crow4_col1 {\n",
       "            background-color:  #7093f3;\n",
       "            color:  #000000;\n",
       "        }    #T_3b89814a_465b_11ea_819e_5fe271921f8crow4_col2 {\n",
       "            background-color:  #6a8bef;\n",
       "            color:  #000000;\n",
       "        }    #T_3b89814a_465b_11ea_819e_5fe271921f8crow4_col3 {\n",
       "            background-color:  #7699f6;\n",
       "            color:  #000000;\n",
       "        }    #T_3b89814a_465b_11ea_819e_5fe271921f8crow4_col4 {\n",
       "            background-color:  #b40426;\n",
       "            color:  #f1f1f1;\n",
       "        }    #T_3b89814a_465b_11ea_819e_5fe271921f8crow4_col5 {\n",
       "            background-color:  #7da0f9;\n",
       "            color:  #000000;\n",
       "        }    #T_3b89814a_465b_11ea_819e_5fe271921f8crow4_col6 {\n",
       "            background-color:  #799cf8;\n",
       "            color:  #000000;\n",
       "        }    #T_3b89814a_465b_11ea_819e_5fe271921f8crow4_col7 {\n",
       "            background-color:  #80a3fa;\n",
       "            color:  #000000;\n",
       "        }    #T_3b89814a_465b_11ea_819e_5fe271921f8crow4_col8 {\n",
       "            background-color:  #dbdcde;\n",
       "            color:  #000000;\n",
       "        }    #T_3b89814a_465b_11ea_819e_5fe271921f8crow4_col9 {\n",
       "            background-color:  #7597f6;\n",
       "            color:  #000000;\n",
       "        }    #T_3b89814a_465b_11ea_819e_5fe271921f8crow4_col10 {\n",
       "            background-color:  #97b8ff;\n",
       "            color:  #000000;\n",
       "        }    #T_3b89814a_465b_11ea_819e_5fe271921f8crow5_col0 {\n",
       "            background-color:  #b3cdfb;\n",
       "            color:  #000000;\n",
       "        }    #T_3b89814a_465b_11ea_819e_5fe271921f8crow5_col1 {\n",
       "            background-color:  #6c8ff1;\n",
       "            color:  #000000;\n",
       "        }    #T_3b89814a_465b_11ea_819e_5fe271921f8crow5_col2 {\n",
       "            background-color:  #85a8fc;\n",
       "            color:  #000000;\n",
       "        }    #T_3b89814a_465b_11ea_819e_5fe271921f8crow5_col3 {\n",
       "            background-color:  #80a3fa;\n",
       "            color:  #000000;\n",
       "        }    #T_3b89814a_465b_11ea_819e_5fe271921f8crow5_col4 {\n",
       "            background-color:  #80a3fa;\n",
       "            color:  #000000;\n",
       "        }    #T_3b89814a_465b_11ea_819e_5fe271921f8crow5_col5 {\n",
       "            background-color:  #b40426;\n",
       "            color:  #f1f1f1;\n",
       "        }    #T_3b89814a_465b_11ea_819e_5fe271921f8crow5_col6 {\n",
       "            background-color:  #3b4cc0;\n",
       "            color:  #f1f1f1;\n",
       "        }    #T_3b89814a_465b_11ea_819e_5fe271921f8crow5_col7 {\n",
       "            background-color:  #90b2fe;\n",
       "            color:  #000000;\n",
       "        }    #T_3b89814a_465b_11ea_819e_5fe271921f8crow5_col8 {\n",
       "            background-color:  #c6d6f1;\n",
       "            color:  #000000;\n",
       "        }    #T_3b89814a_465b_11ea_819e_5fe271921f8crow5_col9 {\n",
       "            background-color:  #93b5fe;\n",
       "            color:  #000000;\n",
       "        }    #T_3b89814a_465b_11ea_819e_5fe271921f8crow5_col10 {\n",
       "            background-color:  #c0d4f5;\n",
       "            color:  #000000;\n",
       "        }    #T_3b89814a_465b_11ea_819e_5fe271921f8crow6_col0 {\n",
       "            background-color:  #cdd9ec;\n",
       "            color:  #000000;\n",
       "        }    #T_3b89814a_465b_11ea_819e_5fe271921f8crow6_col1 {\n",
       "            background-color:  #c4d5f3;\n",
       "            color:  #000000;\n",
       "        }    #T_3b89814a_465b_11ea_819e_5fe271921f8crow6_col2 {\n",
       "            background-color:  #7295f4;\n",
       "            color:  #000000;\n",
       "        }    #T_3b89814a_465b_11ea_819e_5fe271921f8crow6_col3 {\n",
       "            background-color:  #80a3fa;\n",
       "            color:  #000000;\n",
       "        }    #T_3b89814a_465b_11ea_819e_5fe271921f8crow6_col4 {\n",
       "            background-color:  #7b9ff9;\n",
       "            color:  #000000;\n",
       "        }    #T_3b89814a_465b_11ea_819e_5fe271921f8crow6_col5 {\n",
       "            background-color:  #3b4cc0;\n",
       "            color:  #f1f1f1;\n",
       "        }    #T_3b89814a_465b_11ea_819e_5fe271921f8crow6_col6 {\n",
       "            background-color:  #b40426;\n",
       "            color:  #f1f1f1;\n",
       "        }    #T_3b89814a_465b_11ea_819e_5fe271921f8crow6_col7 {\n",
       "            background-color:  #afcafc;\n",
       "            color:  #000000;\n",
       "        }    #T_3b89814a_465b_11ea_819e_5fe271921f8crow6_col8 {\n",
       "            background-color:  #bed2f6;\n",
       "            color:  #000000;\n",
       "        }    #T_3b89814a_465b_11ea_819e_5fe271921f8crow6_col9 {\n",
       "            background-color:  #98b9ff;\n",
       "            color:  #000000;\n",
       "        }    #T_3b89814a_465b_11ea_819e_5fe271921f8crow6_col10 {\n",
       "            background-color:  #b7cff9;\n",
       "            color:  #000000;\n",
       "        }    #T_3b89814a_465b_11ea_819e_5fe271921f8crow7_col0 {\n",
       "            background-color:  #ee8468;\n",
       "            color:  #000000;\n",
       "        }    #T_3b89814a_465b_11ea_819e_5fe271921f8crow7_col1 {\n",
       "            background-color:  #9bbcff;\n",
       "            color:  #000000;\n",
       "        }    #T_3b89814a_465b_11ea_819e_5fe271921f8crow7_col2 {\n",
       "            background-color:  #ee8468;\n",
       "            color:  #000000;\n",
       "        }    #T_3b89814a_465b_11ea_819e_5fe271921f8crow7_col3 {\n",
       "            background-color:  #f1cdba;\n",
       "            color:  #000000;\n",
       "        }    #T_3b89814a_465b_11ea_819e_5fe271921f8crow7_col4 {\n",
       "            background-color:  #7295f4;\n",
       "            color:  #000000;\n",
       "        }    #T_3b89814a_465b_11ea_819e_5fe271921f8crow7_col5 {\n",
       "            background-color:  #80a3fa;\n",
       "            color:  #000000;\n",
       "        }    #T_3b89814a_465b_11ea_819e_5fe271921f8crow7_col6 {\n",
       "            background-color:  #a2c1ff;\n",
       "            color:  #000000;\n",
       "        }    #T_3b89814a_465b_11ea_819e_5fe271921f8crow7_col7 {\n",
       "            background-color:  #b40426;\n",
       "            color:  #f1f1f1;\n",
       "        }    #T_3b89814a_465b_11ea_819e_5fe271921f8crow7_col8 {\n",
       "            background-color:  #efcfbf;\n",
       "            color:  #000000;\n",
       "        }    #T_3b89814a_465b_11ea_819e_5fe271921f8crow7_col9 {\n",
       "            background-color:  #6687ed;\n",
       "            color:  #000000;\n",
       "        }    #T_3b89814a_465b_11ea_819e_5fe271921f8crow7_col10 {\n",
       "            background-color:  #c0d4f5;\n",
       "            color:  #000000;\n",
       "        }    #T_3b89814a_465b_11ea_819e_5fe271921f8crow8_col0 {\n",
       "            background-color:  #edd1c2;\n",
       "            color:  #000000;\n",
       "        }    #T_3b89814a_465b_11ea_819e_5fe271921f8crow8_col1 {\n",
       "            background-color:  #88abfd;\n",
       "            color:  #000000;\n",
       "        }    #T_3b89814a_465b_11ea_819e_5fe271921f8crow8_col2 {\n",
       "            background-color:  #c9d7f0;\n",
       "            color:  #000000;\n",
       "        }    #T_3b89814a_465b_11ea_819e_5fe271921f8crow8_col3 {\n",
       "            background-color:  #bfd3f6;\n",
       "            color:  #000000;\n",
       "        }    #T_3b89814a_465b_11ea_819e_5fe271921f8crow8_col4 {\n",
       "            background-color:  #a9c6fd;\n",
       "            color:  #000000;\n",
       "        }    #T_3b89814a_465b_11ea_819e_5fe271921f8crow8_col5 {\n",
       "            background-color:  #85a8fc;\n",
       "            color:  #000000;\n",
       "        }    #T_3b89814a_465b_11ea_819e_5fe271921f8crow8_col6 {\n",
       "            background-color:  #779af7;\n",
       "            color:  #000000;\n",
       "        }    #T_3b89814a_465b_11ea_819e_5fe271921f8crow8_col7 {\n",
       "            background-color:  #d5dbe5;\n",
       "            color:  #000000;\n",
       "        }    #T_3b89814a_465b_11ea_819e_5fe271921f8crow8_col8 {\n",
       "            background-color:  #b40426;\n",
       "            color:  #f1f1f1;\n",
       "        }    #T_3b89814a_465b_11ea_819e_5fe271921f8crow8_col9 {\n",
       "            background-color:  #8caffe;\n",
       "            color:  #000000;\n",
       "        }    #T_3b89814a_465b_11ea_819e_5fe271921f8crow8_col10 {\n",
       "            background-color:  #3b4cc0;\n",
       "            color:  #f1f1f1;\n",
       "        }    #T_3b89814a_465b_11ea_819e_5fe271921f8crow9_col0 {\n",
       "            background-color:  #3b4cc0;\n",
       "            color:  #f1f1f1;\n",
       "        }    #T_3b89814a_465b_11ea_819e_5fe271921f8crow9_col1 {\n",
       "            background-color:  #6c8ff1;\n",
       "            color:  #000000;\n",
       "        }    #T_3b89814a_465b_11ea_819e_5fe271921f8crow9_col2 {\n",
       "            background-color:  #3b4cc0;\n",
       "            color:  #f1f1f1;\n",
       "        }    #T_3b89814a_465b_11ea_819e_5fe271921f8crow9_col3 {\n",
       "            background-color:  #3b4cc0;\n",
       "            color:  #f1f1f1;\n",
       "        }    #T_3b89814a_465b_11ea_819e_5fe271921f8crow9_col4 {\n",
       "            background-color:  #3b4cc0;\n",
       "            color:  #f1f1f1;\n",
       "        }    #T_3b89814a_465b_11ea_819e_5fe271921f8crow9_col5 {\n",
       "            background-color:  #5875e1;\n",
       "            color:  #000000;\n",
       "        }    #T_3b89814a_465b_11ea_819e_5fe271921f8crow9_col6 {\n",
       "            background-color:  #5e7de7;\n",
       "            color:  #000000;\n",
       "        }    #T_3b89814a_465b_11ea_819e_5fe271921f8crow9_col7 {\n",
       "            background-color:  #3b4cc0;\n",
       "            color:  #f1f1f1;\n",
       "        }    #T_3b89814a_465b_11ea_819e_5fe271921f8crow9_col8 {\n",
       "            background-color:  #9fbfff;\n",
       "            color:  #000000;\n",
       "        }    #T_3b89814a_465b_11ea_819e_5fe271921f8crow9_col9 {\n",
       "            background-color:  #b40426;\n",
       "            color:  #f1f1f1;\n",
       "        }    #T_3b89814a_465b_11ea_819e_5fe271921f8crow9_col10 {\n",
       "            background-color:  #bbd1f8;\n",
       "            color:  #000000;\n",
       "        }    #T_3b89814a_465b_11ea_819e_5fe271921f8crow10_col0 {\n",
       "            background-color:  #9abbff;\n",
       "            color:  #000000;\n",
       "        }    #T_3b89814a_465b_11ea_819e_5fe271921f8crow10_col1 {\n",
       "            background-color:  #9fbfff;\n",
       "            color:  #000000;\n",
       "        }    #T_3b89814a_465b_11ea_819e_5fe271921f8crow10_col2 {\n",
       "            background-color:  #8db0fe;\n",
       "            color:  #000000;\n",
       "        }    #T_3b89814a_465b_11ea_819e_5fe271921f8crow10_col3 {\n",
       "            background-color:  #88abfd;\n",
       "            color:  #000000;\n",
       "        }    #T_3b89814a_465b_11ea_819e_5fe271921f8crow10_col4 {\n",
       "            background-color:  #485fd1;\n",
       "            color:  #f1f1f1;\n",
       "        }    #T_3b89814a_465b_11ea_819e_5fe271921f8crow10_col5 {\n",
       "            background-color:  #7b9ff9;\n",
       "            color:  #000000;\n",
       "        }    #T_3b89814a_465b_11ea_819e_5fe271921f8crow10_col6 {\n",
       "            background-color:  #6e90f2;\n",
       "            color:  #000000;\n",
       "        }    #T_3b89814a_465b_11ea_819e_5fe271921f8crow10_col7 {\n",
       "            background-color:  #8caffe;\n",
       "            color:  #000000;\n",
       "        }    #T_3b89814a_465b_11ea_819e_5fe271921f8crow10_col8 {\n",
       "            background-color:  #3b4cc0;\n",
       "            color:  #f1f1f1;\n",
       "        }    #T_3b89814a_465b_11ea_819e_5fe271921f8crow10_col9 {\n",
       "            background-color:  #aac7fd;\n",
       "            color:  #000000;\n",
       "        }    #T_3b89814a_465b_11ea_819e_5fe271921f8crow10_col10 {\n",
       "            background-color:  #b40426;\n",
       "            color:  #f1f1f1;\n",
       "        }</style><table id=\"T_3b89814a_465b_11ea_819e_5fe271921f8c\" ><thead>    <tr>        <th class=\"blank level0\" ></th>        <th class=\"col_heading level0 col0\" >salary</th>        <th class=\"col_heading level0 col1\" >exprior</th>        <th class=\"col_heading level0 col2\" >yearsworked</th>        <th class=\"col_heading level0 col3\" >yearsrank</th>        <th class=\"col_heading level0 col4\" >market</th>        <th class=\"col_heading level0 col5\" >degree</th>        <th class=\"col_heading level0 col6\" >otherqual</th>        <th class=\"col_heading level0 col7\" >position</th>        <th class=\"col_heading level0 col8\" >male</th>        <th class=\"col_heading level0 col9\" >Field</th>        <th class=\"col_heading level0 col10\" >yearsabs</th>    </tr></thead><tbody>\n",
       "                <tr>\n",
       "                        <th id=\"T_3b89814a_465b_11ea_819e_5fe271921f8clevel0_row0\" class=\"row_heading level0 row0\" >salary</th>\n",
       "                        <td id=\"T_3b89814a_465b_11ea_819e_5fe271921f8crow0_col0\" class=\"data row0 col0\" >1</td>\n",
       "                        <td id=\"T_3b89814a_465b_11ea_819e_5fe271921f8crow0_col1\" class=\"data row0 col1\" >0.119946</td>\n",
       "                        <td id=\"T_3b89814a_465b_11ea_819e_5fe271921f8crow0_col2\" class=\"data row0 col2\" >0.623135</td>\n",
       "                        <td id=\"T_3b89814a_465b_11ea_819e_5fe271921f8crow0_col3\" class=\"data row0 col3\" >0.61058</td>\n",
       "                        <td id=\"T_3b89814a_465b_11ea_819e_5fe271921f8crow0_col4\" class=\"data row0 col4\" >0.407208</td>\n",
       "                        <td id=\"T_3b89814a_465b_11ea_819e_5fe271921f8crow0_col5\" class=\"data row0 col5\" >0.0445522</td>\n",
       "                        <td id=\"T_3b89814a_465b_11ea_819e_5fe271921f8crow0_col6\" class=\"data row0 col6\" >0.167129</td>\n",
       "                        <td id=\"T_3b89814a_465b_11ea_819e_5fe271921f8crow0_col7\" class=\"data row0 col7\" >0.701354</td>\n",
       "                        <td id=\"T_3b89814a_465b_11ea_819e_5fe271921f8crow0_col8\" class=\"data row0 col8\" >0.361447</td>\n",
       "                        <td id=\"T_3b89814a_465b_11ea_819e_5fe271921f8crow0_col9\" class=\"data row0 col9\" >-0.498485</td>\n",
       "                        <td id=\"T_3b89814a_465b_11ea_819e_5fe271921f8crow0_col10\" class=\"data row0 col10\" >-0.0696218</td>\n",
       "            </tr>\n",
       "            <tr>\n",
       "                        <th id=\"T_3b89814a_465b_11ea_819e_5fe271921f8clevel0_row1\" class=\"row_heading level0 row1\" >exprior</th>\n",
       "                        <td id=\"T_3b89814a_465b_11ea_819e_5fe271921f8crow1_col0\" class=\"data row1 col0\" >0.119946</td>\n",
       "                        <td id=\"T_3b89814a_465b_11ea_819e_5fe271921f8crow1_col1\" class=\"data row1 col1\" >1</td>\n",
       "                        <td id=\"T_3b89814a_465b_11ea_819e_5fe271921f8crow1_col2\" class=\"data row1 col2\" >-0.246549</td>\n",
       "                        <td id=\"T_3b89814a_465b_11ea_819e_5fe271921f8crow1_col3\" class=\"data row1 col3\" >-0.066403</td>\n",
       "                        <td id=\"T_3b89814a_465b_11ea_819e_5fe271921f8crow1_col4\" class=\"data row1 col4\" >-0.0350411</td>\n",
       "                        <td id=\"T_3b89814a_465b_11ea_819e_5fe271921f8crow1_col5\" class=\"data row1 col5\" >-0.0493727</td>\n",
       "                        <td id=\"T_3b89814a_465b_11ea_819e_5fe271921f8crow1_col6\" class=\"data row1 col6\" >0.264804</td>\n",
       "                        <td id=\"T_3b89814a_465b_11ea_819e_5fe271921f8crow1_col7\" class=\"data row1 col7\" >0.116596</td>\n",
       "                        <td id=\"T_3b89814a_465b_11ea_819e_5fe271921f8crow1_col8\" class=\"data row1 col8\" >0.0465577</td>\n",
       "                        <td id=\"T_3b89814a_465b_11ea_819e_5fe271921f8crow1_col9\" class=\"data row1 col9\" >-0.0483155</td>\n",
       "                        <td id=\"T_3b89814a_465b_11ea_819e_5fe271921f8crow1_col10\" class=\"data row1 col10\" >0.13238</td>\n",
       "            </tr>\n",
       "            <tr>\n",
       "                        <th id=\"T_3b89814a_465b_11ea_819e_5fe271921f8clevel0_row2\" class=\"row_heading level0 row2\" >yearsworked</th>\n",
       "                        <td id=\"T_3b89814a_465b_11ea_819e_5fe271921f8crow2_col0\" class=\"data row2 col0\" >0.623135</td>\n",
       "                        <td id=\"T_3b89814a_465b_11ea_819e_5fe271921f8crow2_col1\" class=\"data row2 col1\" >-0.246549</td>\n",
       "                        <td id=\"T_3b89814a_465b_11ea_819e_5fe271921f8crow2_col2\" class=\"data row2 col2\" >1</td>\n",
       "                        <td id=\"T_3b89814a_465b_11ea_819e_5fe271921f8crow2_col3\" class=\"data row2 col3\" >0.813471</td>\n",
       "                        <td id=\"T_3b89814a_465b_11ea_819e_5fe271921f8crow2_col4\" class=\"data row2 col4\" >-0.0708964</td>\n",
       "                        <td id=\"T_3b89814a_465b_11ea_819e_5fe271921f8crow2_col5\" class=\"data row2 col5\" >0.028421</td>\n",
       "                        <td id=\"T_3b89814a_465b_11ea_819e_5fe271921f8crow2_col6\" class=\"data row2 col6\" >-0.04049</td>\n",
       "                        <td id=\"T_3b89814a_465b_11ea_819e_5fe271921f8crow2_col7\" class=\"data row2 col7\" >0.746736</td>\n",
       "                        <td id=\"T_3b89814a_465b_11ea_819e_5fe271921f8crow2_col8\" class=\"data row2 col8\" >0.278963</td>\n",
       "                        <td id=\"T_3b89814a_465b_11ea_819e_5fe271921f8crow2_col9\" class=\"data row2 col9\" >-0.261379</td>\n",
       "                        <td id=\"T_3b89814a_465b_11ea_819e_5fe271921f8crow2_col10\" class=\"data row2 col10\" >0.0554682</td>\n",
       "            </tr>\n",
       "            <tr>\n",
       "                        <th id=\"T_3b89814a_465b_11ea_819e_5fe271921f8clevel0_row3\" class=\"row_heading level0 row3\" >yearsrank</th>\n",
       "                        <td id=\"T_3b89814a_465b_11ea_819e_5fe271921f8crow3_col0\" class=\"data row3 col0\" >0.61058</td>\n",
       "                        <td id=\"T_3b89814a_465b_11ea_819e_5fe271921f8crow3_col1\" class=\"data row3 col1\" >-0.066403</td>\n",
       "                        <td id=\"T_3b89814a_465b_11ea_819e_5fe271921f8crow3_col2\" class=\"data row3 col2\" >0.813471</td>\n",
       "                        <td id=\"T_3b89814a_465b_11ea_819e_5fe271921f8crow3_col3\" class=\"data row3 col3\" >1</td>\n",
       "                        <td id=\"T_3b89814a_465b_11ea_819e_5fe271921f8crow3_col4\" class=\"data row3 col4\" >-0.0269746</td>\n",
       "                        <td id=\"T_3b89814a_465b_11ea_819e_5fe271921f8crow3_col5\" class=\"data row3 col5\" >0.00651583</td>\n",
       "                        <td id=\"T_3b89814a_465b_11ea_819e_5fe271921f8crow3_col6\" class=\"data row3 col6\" >0.0070362</td>\n",
       "                        <td id=\"T_3b89814a_465b_11ea_819e_5fe271921f8crow3_col7\" class=\"data row3 col7\" >0.48521</td>\n",
       "                        <td id=\"T_3b89814a_465b_11ea_819e_5fe271921f8crow3_col8\" class=\"data row3 col8\" >0.237787</td>\n",
       "                        <td id=\"T_3b89814a_465b_11ea_819e_5fe271921f8crow3_col9\" class=\"data row3 col9\" >-0.263953</td>\n",
       "                        <td id=\"T_3b89814a_465b_11ea_819e_5fe271921f8crow3_col10\" class=\"data row3 col10\" >0.0356316</td>\n",
       "            </tr>\n",
       "            <tr>\n",
       "                        <th id=\"T_3b89814a_465b_11ea_819e_5fe271921f8clevel0_row4\" class=\"row_heading level0 row4\" >market</th>\n",
       "                        <td id=\"T_3b89814a_465b_11ea_819e_5fe271921f8crow4_col0\" class=\"data row4 col0\" >0.407208</td>\n",
       "                        <td id=\"T_3b89814a_465b_11ea_819e_5fe271921f8crow4_col1\" class=\"data row4 col1\" >-0.0350411</td>\n",
       "                        <td id=\"T_3b89814a_465b_11ea_819e_5fe271921f8crow4_col2\" class=\"data row4 col2\" >-0.0708964</td>\n",
       "                        <td id=\"T_3b89814a_465b_11ea_819e_5fe271921f8crow4_col3\" class=\"data row4 col3\" >-0.0269746</td>\n",
       "                        <td id=\"T_3b89814a_465b_11ea_819e_5fe271921f8crow4_col4\" class=\"data row4 col4\" >1</td>\n",
       "                        <td id=\"T_3b89814a_465b_11ea_819e_5fe271921f8crow4_col5\" class=\"data row4 col5\" >0.036408</td>\n",
       "                        <td id=\"T_3b89814a_465b_11ea_819e_5fe271921f8crow4_col6\" class=\"data row4 col6\" >0.0216917</td>\n",
       "                        <td id=\"T_3b89814a_465b_11ea_819e_5fe271921f8crow4_col7\" class=\"data row4 col7\" >-0.0133578</td>\n",
       "                        <td id=\"T_3b89814a_465b_11ea_819e_5fe271921f8crow4_col8\" class=\"data row4 col8\" >0.181201</td>\n",
       "                        <td id=\"T_3b89814a_465b_11ea_819e_5fe271921f8crow4_col9\" class=\"data row4 col9\" >-0.223827</td>\n",
       "                        <td id=\"T_3b89814a_465b_11ea_819e_5fe271921f8crow4_col10\" class=\"data row4 col10\" >-0.167068</td>\n",
       "            </tr>\n",
       "            <tr>\n",
       "                        <th id=\"T_3b89814a_465b_11ea_819e_5fe271921f8clevel0_row5\" class=\"row_heading level0 row5\" >degree</th>\n",
       "                        <td id=\"T_3b89814a_465b_11ea_819e_5fe271921f8crow5_col0\" class=\"data row5 col0\" >0.0445522</td>\n",
       "                        <td id=\"T_3b89814a_465b_11ea_819e_5fe271921f8crow5_col1\" class=\"data row5 col1\" >-0.0493727</td>\n",
       "                        <td id=\"T_3b89814a_465b_11ea_819e_5fe271921f8crow5_col2\" class=\"data row5 col2\" >0.028421</td>\n",
       "                        <td id=\"T_3b89814a_465b_11ea_819e_5fe271921f8crow5_col3\" class=\"data row5 col3\" >0.00651583</td>\n",
       "                        <td id=\"T_3b89814a_465b_11ea_819e_5fe271921f8crow5_col4\" class=\"data row5 col4\" >0.036408</td>\n",
       "                        <td id=\"T_3b89814a_465b_11ea_819e_5fe271921f8crow5_col5\" class=\"data row5 col5\" >1</td>\n",
       "                        <td id=\"T_3b89814a_465b_11ea_819e_5fe271921f8crow5_col6\" class=\"data row5 col6\" >-0.214717</td>\n",
       "                        <td id=\"T_3b89814a_465b_11ea_819e_5fe271921f8crow5_col7\" class=\"data row5 col7\" >0.0436796</td>\n",
       "                        <td id=\"T_3b89814a_465b_11ea_819e_5fe271921f8crow5_col8\" class=\"data row5 col8\" >0.061611</td>\n",
       "                        <td id=\"T_3b89814a_465b_11ea_819e_5fe271921f8crow5_col9\" class=\"data row5 col9\" >-0.0984242</td>\n",
       "                        <td id=\"T_3b89814a_465b_11ea_819e_5fe271921f8crow5_col10\" class=\"data row5 col10\" >0.0293106</td>\n",
       "            </tr>\n",
       "            <tr>\n",
       "                        <th id=\"T_3b89814a_465b_11ea_819e_5fe271921f8clevel0_row6\" class=\"row_heading level0 row6\" >otherqual</th>\n",
       "                        <td id=\"T_3b89814a_465b_11ea_819e_5fe271921f8crow6_col0\" class=\"data row6 col0\" >0.167129</td>\n",
       "                        <td id=\"T_3b89814a_465b_11ea_819e_5fe271921f8crow6_col1\" class=\"data row6 col1\" >0.264804</td>\n",
       "                        <td id=\"T_3b89814a_465b_11ea_819e_5fe271921f8crow6_col2\" class=\"data row6 col2\" >-0.04049</td>\n",
       "                        <td id=\"T_3b89814a_465b_11ea_819e_5fe271921f8crow6_col3\" class=\"data row6 col3\" >0.0070362</td>\n",
       "                        <td id=\"T_3b89814a_465b_11ea_819e_5fe271921f8crow6_col4\" class=\"data row6 col4\" >0.0216917</td>\n",
       "                        <td id=\"T_3b89814a_465b_11ea_819e_5fe271921f8crow6_col5\" class=\"data row6 col5\" >-0.214717</td>\n",
       "                        <td id=\"T_3b89814a_465b_11ea_819e_5fe271921f8crow6_col6\" class=\"data row6 col6\" >1</td>\n",
       "                        <td id=\"T_3b89814a_465b_11ea_819e_5fe271921f8crow6_col7\" class=\"data row6 col7\" >0.160311</td>\n",
       "                        <td id=\"T_3b89814a_465b_11ea_819e_5fe271921f8crow6_col8\" class=\"data row6 col8\" >0.0158332</td>\n",
       "                        <td id=\"T_3b89814a_465b_11ea_819e_5fe271921f8crow6_col9\" class=\"data row6 col9\" >-0.0766229</td>\n",
       "                        <td id=\"T_3b89814a_465b_11ea_819e_5fe271921f8crow6_col10\" class=\"data row6 col10\" >-0.0176389</td>\n",
       "            </tr>\n",
       "            <tr>\n",
       "                        <th id=\"T_3b89814a_465b_11ea_819e_5fe271921f8clevel0_row7\" class=\"row_heading level0 row7\" >position</th>\n",
       "                        <td id=\"T_3b89814a_465b_11ea_819e_5fe271921f8crow7_col0\" class=\"data row7 col0\" >0.701354</td>\n",
       "                        <td id=\"T_3b89814a_465b_11ea_819e_5fe271921f8crow7_col1\" class=\"data row7 col1\" >0.116596</td>\n",
       "                        <td id=\"T_3b89814a_465b_11ea_819e_5fe271921f8crow7_col2\" class=\"data row7 col2\" >0.746736</td>\n",
       "                        <td id=\"T_3b89814a_465b_11ea_819e_5fe271921f8crow7_col3\" class=\"data row7 col3\" >0.48521</td>\n",
       "                        <td id=\"T_3b89814a_465b_11ea_819e_5fe271921f8crow7_col4\" class=\"data row7 col4\" >-0.0133578</td>\n",
       "                        <td id=\"T_3b89814a_465b_11ea_819e_5fe271921f8crow7_col5\" class=\"data row7 col5\" >0.0436796</td>\n",
       "                        <td id=\"T_3b89814a_465b_11ea_819e_5fe271921f8crow7_col6\" class=\"data row7 col6\" >0.160311</td>\n",
       "                        <td id=\"T_3b89814a_465b_11ea_819e_5fe271921f8crow7_col7\" class=\"data row7 col7\" >1</td>\n",
       "                        <td id=\"T_3b89814a_465b_11ea_819e_5fe271921f8crow7_col8\" class=\"data row7 col8\" >0.318129</td>\n",
       "                        <td id=\"T_3b89814a_465b_11ea_819e_5fe271921f8crow7_col9\" class=\"data row7 col9\" >-0.288812</td>\n",
       "                        <td id=\"T_3b89814a_465b_11ea_819e_5fe271921f8crow7_col10\" class=\"data row7 col10\" >0.0297514</td>\n",
       "            </tr>\n",
       "            <tr>\n",
       "                        <th id=\"T_3b89814a_465b_11ea_819e_5fe271921f8clevel0_row8\" class=\"row_heading level0 row8\" >male</th>\n",
       "                        <td id=\"T_3b89814a_465b_11ea_819e_5fe271921f8crow8_col0\" class=\"data row8 col0\" >0.361447</td>\n",
       "                        <td id=\"T_3b89814a_465b_11ea_819e_5fe271921f8crow8_col1\" class=\"data row8 col1\" >0.0465577</td>\n",
       "                        <td id=\"T_3b89814a_465b_11ea_819e_5fe271921f8crow8_col2\" class=\"data row8 col2\" >0.278963</td>\n",
       "                        <td id=\"T_3b89814a_465b_11ea_819e_5fe271921f8crow8_col3\" class=\"data row8 col3\" >0.237787</td>\n",
       "                        <td id=\"T_3b89814a_465b_11ea_819e_5fe271921f8crow8_col4\" class=\"data row8 col4\" >0.181201</td>\n",
       "                        <td id=\"T_3b89814a_465b_11ea_819e_5fe271921f8crow8_col5\" class=\"data row8 col5\" >0.061611</td>\n",
       "                        <td id=\"T_3b89814a_465b_11ea_819e_5fe271921f8crow8_col6\" class=\"data row8 col6\" >0.0158332</td>\n",
       "                        <td id=\"T_3b89814a_465b_11ea_819e_5fe271921f8crow8_col7\" class=\"data row8 col7\" >0.318129</td>\n",
       "                        <td id=\"T_3b89814a_465b_11ea_819e_5fe271921f8crow8_col8\" class=\"data row8 col8\" >1</td>\n",
       "                        <td id=\"T_3b89814a_465b_11ea_819e_5fe271921f8crow8_col9\" class=\"data row8 col9\" >-0.128874</td>\n",
       "                        <td id=\"T_3b89814a_465b_11ea_819e_5fe271921f8crow8_col10\" class=\"data row8 col10\" >-0.622179</td>\n",
       "            </tr>\n",
       "            <tr>\n",
       "                        <th id=\"T_3b89814a_465b_11ea_819e_5fe271921f8clevel0_row9\" class=\"row_heading level0 row9\" >Field</th>\n",
       "                        <td id=\"T_3b89814a_465b_11ea_819e_5fe271921f8crow9_col0\" class=\"data row9 col0\" >-0.498485</td>\n",
       "                        <td id=\"T_3b89814a_465b_11ea_819e_5fe271921f8crow9_col1\" class=\"data row9 col1\" >-0.0483155</td>\n",
       "                        <td id=\"T_3b89814a_465b_11ea_819e_5fe271921f8crow9_col2\" class=\"data row9 col2\" >-0.261379</td>\n",
       "                        <td id=\"T_3b89814a_465b_11ea_819e_5fe271921f8crow9_col3\" class=\"data row9 col3\" >-0.263953</td>\n",
       "                        <td id=\"T_3b89814a_465b_11ea_819e_5fe271921f8crow9_col4\" class=\"data row9 col4\" >-0.223827</td>\n",
       "                        <td id=\"T_3b89814a_465b_11ea_819e_5fe271921f8crow9_col5\" class=\"data row9 col5\" >-0.0984242</td>\n",
       "                        <td id=\"T_3b89814a_465b_11ea_819e_5fe271921f8crow9_col6\" class=\"data row9 col6\" >-0.0766229</td>\n",
       "                        <td id=\"T_3b89814a_465b_11ea_819e_5fe271921f8crow9_col7\" class=\"data row9 col7\" >-0.288812</td>\n",
       "                        <td id=\"T_3b89814a_465b_11ea_819e_5fe271921f8crow9_col8\" class=\"data row9 col8\" >-0.128874</td>\n",
       "                        <td id=\"T_3b89814a_465b_11ea_819e_5fe271921f8crow9_col9\" class=\"data row9 col9\" >1</td>\n",
       "                        <td id=\"T_3b89814a_465b_11ea_819e_5fe271921f8crow9_col10\" class=\"data row9 col10\" >-0.000126793</td>\n",
       "            </tr>\n",
       "            <tr>\n",
       "                        <th id=\"T_3b89814a_465b_11ea_819e_5fe271921f8clevel0_row10\" class=\"row_heading level0 row10\" >yearsabs</th>\n",
       "                        <td id=\"T_3b89814a_465b_11ea_819e_5fe271921f8crow10_col0\" class=\"data row10 col0\" >-0.0696218</td>\n",
       "                        <td id=\"T_3b89814a_465b_11ea_819e_5fe271921f8crow10_col1\" class=\"data row10 col1\" >0.13238</td>\n",
       "                        <td id=\"T_3b89814a_465b_11ea_819e_5fe271921f8crow10_col2\" class=\"data row10 col2\" >0.0554682</td>\n",
       "                        <td id=\"T_3b89814a_465b_11ea_819e_5fe271921f8crow10_col3\" class=\"data row10 col3\" >0.0356316</td>\n",
       "                        <td id=\"T_3b89814a_465b_11ea_819e_5fe271921f8crow10_col4\" class=\"data row10 col4\" >-0.167068</td>\n",
       "                        <td id=\"T_3b89814a_465b_11ea_819e_5fe271921f8crow10_col5\" class=\"data row10 col5\" >0.0293106</td>\n",
       "                        <td id=\"T_3b89814a_465b_11ea_819e_5fe271921f8crow10_col6\" class=\"data row10 col6\" >-0.0176389</td>\n",
       "                        <td id=\"T_3b89814a_465b_11ea_819e_5fe271921f8crow10_col7\" class=\"data row10 col7\" >0.0297514</td>\n",
       "                        <td id=\"T_3b89814a_465b_11ea_819e_5fe271921f8crow10_col8\" class=\"data row10 col8\" >-0.622179</td>\n",
       "                        <td id=\"T_3b89814a_465b_11ea_819e_5fe271921f8crow10_col9\" class=\"data row10 col9\" >-0.000126793</td>\n",
       "                        <td id=\"T_3b89814a_465b_11ea_819e_5fe271921f8crow10_col10\" class=\"data row10 col10\" >1</td>\n",
       "            </tr>\n",
       "    </tbody></table>"
      ],
      "text/plain": [
       "<pandas.io.formats.style.Styler at 0x7fc3b9f41b50>"
      ]
     },
     "execution_count": 12,
     "metadata": {},
     "output_type": "execute_result"
    }
   ],
   "source": [
    "import pandas as pd\n",
    "import numpy as np\n",
    "\n",
    "rs = np.random.RandomState(0)\n",
    "corr = data.corr()\n",
    "corr.style.background_gradient(cmap='coolwarm')"
   ]
  },
  {
   "cell_type": "markdown",
   "metadata": {},
   "source": [
    "*The highest correlation with regards to salary is position followed by yearsworked.*"
   ]
  },
  {
   "cell_type": "markdown",
   "metadata": {},
   "source": [
    "### Splitting Data"
   ]
  },
  {
   "cell_type": "code",
   "execution_count": 24,
   "metadata": {},
   "outputs": [],
   "source": [
    "import pandas as pd\n",
    "from sklearn.model_selection import train_test_split\n",
    "from sklearn.datasets import load_iris"
   ]
  },
  {
   "cell_type": "markdown",
   "metadata": {},
   "source": [
    "#### Let’s split this data into labels and features."
   ]
  },
  {
   "cell_type": "code",
   "execution_count": 25,
   "metadata": {},
   "outputs": [],
   "source": [
    "y = data.salary\n",
    "x = data"
   ]
  },
  {
   "cell_type": "markdown",
   "metadata": {},
   "source": [
    "#### Then, we split the data."
   ]
  },
  {
   "cell_type": "code",
   "execution_count": 26,
   "metadata": {},
   "outputs": [],
   "source": [
    "x_train,x_test,y_train,y_test = train_test_split(x,y,test_size=0.3)"
   ]
  },
  {
   "cell_type": "code",
   "execution_count": 27,
   "metadata": {},
   "outputs": [
    {
     "data": {
      "text/html": [
       "<div>\n",
       "<style scoped>\n",
       "    .dataframe tbody tr th:only-of-type {\n",
       "        vertical-align: middle;\n",
       "    }\n",
       "\n",
       "    .dataframe tbody tr th {\n",
       "        vertical-align: top;\n",
       "    }\n",
       "\n",
       "    .dataframe thead th {\n",
       "        text-align: right;\n",
       "    }\n",
       "</style>\n",
       "<table border=\"1\" class=\"dataframe\">\n",
       "  <thead>\n",
       "    <tr style=\"text-align: right;\">\n",
       "      <th></th>\n",
       "      <th>salary</th>\n",
       "      <th>exprior</th>\n",
       "      <th>yearsworked</th>\n",
       "      <th>yearsrank</th>\n",
       "      <th>market</th>\n",
       "      <th>degree</th>\n",
       "      <th>otherqual</th>\n",
       "      <th>position</th>\n",
       "      <th>male</th>\n",
       "      <th>Field</th>\n",
       "      <th>yearsabs</th>\n",
       "    </tr>\n",
       "  </thead>\n",
       "  <tbody>\n",
       "    <tr>\n",
       "      <td>436</td>\n",
       "      <td>32000.0</td>\n",
       "      <td>7</td>\n",
       "      <td>0</td>\n",
       "      <td>0</td>\n",
       "      <td>0.78</td>\n",
       "      <td>1</td>\n",
       "      <td>0</td>\n",
       "      <td>1</td>\n",
       "      <td>0</td>\n",
       "      <td>3</td>\n",
       "      <td>0</td>\n",
       "    </tr>\n",
       "    <tr>\n",
       "      <td>92</td>\n",
       "      <td>55406.0</td>\n",
       "      <td>0</td>\n",
       "      <td>10</td>\n",
       "      <td>3</td>\n",
       "      <td>1.23</td>\n",
       "      <td>1</td>\n",
       "      <td>0</td>\n",
       "      <td>2</td>\n",
       "      <td>1</td>\n",
       "      <td>1</td>\n",
       "      <td>1</td>\n",
       "    </tr>\n",
       "    <tr>\n",
       "      <td>29</td>\n",
       "      <td>39000.0</td>\n",
       "      <td>4</td>\n",
       "      <td>0</td>\n",
       "      <td>0</td>\n",
       "      <td>1.22</td>\n",
       "      <td>1</td>\n",
       "      <td>0</td>\n",
       "      <td>1</td>\n",
       "      <td>1</td>\n",
       "      <td>4</td>\n",
       "      <td>0</td>\n",
       "    </tr>\n",
       "    <tr>\n",
       "      <td>275</td>\n",
       "      <td>73669.0</td>\n",
       "      <td>0</td>\n",
       "      <td>23</td>\n",
       "      <td>14</td>\n",
       "      <td>1.19</td>\n",
       "      <td>1</td>\n",
       "      <td>0</td>\n",
       "      <td>3</td>\n",
       "      <td>1</td>\n",
       "      <td>1</td>\n",
       "      <td>1</td>\n",
       "    </tr>\n",
       "    <tr>\n",
       "      <td>438</td>\n",
       "      <td>36869.0</td>\n",
       "      <td>0</td>\n",
       "      <td>7</td>\n",
       "      <td>1</td>\n",
       "      <td>0.85</td>\n",
       "      <td>1</td>\n",
       "      <td>0</td>\n",
       "      <td>2</td>\n",
       "      <td>0</td>\n",
       "      <td>1</td>\n",
       "      <td>4</td>\n",
       "    </tr>\n",
       "  </tbody>\n",
       "</table>\n",
       "</div>"
      ],
      "text/plain": [
       "      salary  exprior  yearsworked  yearsrank  market  degree  otherqual  \\\n",
       "436  32000.0        7            0          0    0.78       1          0   \n",
       "92   55406.0        0           10          3    1.23       1          0   \n",
       "29   39000.0        4            0          0    1.22       1          0   \n",
       "275  73669.0        0           23         14    1.19       1          0   \n",
       "438  36869.0        0            7          1    0.85       1          0   \n",
       "\n",
       "     position  male  Field  yearsabs  \n",
       "436         1     0      3         0  \n",
       "92          2     1      1         1  \n",
       "29          1     1      4         0  \n",
       "275         3     1      1         1  \n",
       "438         2     0      1         4  "
      ]
     },
     "execution_count": 27,
     "metadata": {},
     "output_type": "execute_result"
    }
   ],
   "source": [
    "x_train.head()"
   ]
  },
  {
   "cell_type": "markdown",
   "metadata": {},
   "source": [
    "### Examining the training data"
   ]
  },
  {
   "cell_type": "markdown",
   "metadata": {},
   "source": [
    "#### unique values"
   ]
  },
  {
   "cell_type": "code",
   "execution_count": 28,
   "metadata": {},
   "outputs": [
    {
     "data": {
      "text/plain": [
       "(359, 11)"
      ]
     },
     "execution_count": 28,
     "metadata": {},
     "output_type": "execute_result"
    }
   ],
   "source": [
    "x_train.shape"
   ]
  },
  {
   "cell_type": "markdown",
   "metadata": {},
   "source": [
    "*The data has been examined at the beginning.There are no missing and null values in the training data set. The training data has 70% of the total Data set*"
   ]
  },
  {
   "cell_type": "markdown",
   "metadata": {},
   "source": [
    "#### extreme values"
   ]
  },
  {
   "cell_type": "code",
   "execution_count": 136,
   "metadata": {},
   "outputs": [
    {
     "data": {
      "text/plain": [
       "<matplotlib.axes._subplots.AxesSubplot at 0x7ff18467d210>"
      ]
     },
     "execution_count": 136,
     "metadata": {},
     "output_type": "execute_result"
    },
    {
     "data": {
      "image/png": "[encoded data removed]",
      "text/plain": [
       "<Figure size 432x288 with 1 Axes>"
      ]
     },
     "metadata": {
      "needs_background": "light"
     },
     "output_type": "display_data"
    }
   ],
   "source": [
    "sns.boxplot(x_train['salary'])"
   ]
  },
  {
   "cell_type": "markdown",
   "metadata": {},
   "source": [
    "*The boxplot above shows that there is one extreme value of salary in the training data set.*\n",
    "*With that known, one can choose to remedy the outlier because it may cause the outlier can skew the results*"
   ]
  },
  {
   "cell_type": "markdown",
   "metadata": {},
   "source": [
    "*The outlier is on the further right which is most likely to be on the 99 percentile.*"
   ]
  },
  {
   "cell_type": "code",
   "execution_count": 65,
   "metadata": {},
   "outputs": [],
   "source": [
    "Q3 = x_train[\"salary\"].quantile(0.9999999)"
   ]
  },
  {
   "cell_type": "code",
   "execution_count": 66,
   "metadata": {},
   "outputs": [
    {
     "data": {
      "text/html": [
       "<div>\n",
       "<style scoped>\n",
       "    .dataframe tbody tr th:only-of-type {\n",
       "        vertical-align: middle;\n",
       "    }\n",
       "\n",
       "    .dataframe tbody tr th {\n",
       "        vertical-align: top;\n",
       "    }\n",
       "\n",
       "    .dataframe thead th {\n",
       "        text-align: right;\n",
       "    }\n",
       "</style>\n",
       "<table border=\"1\" class=\"dataframe\">\n",
       "  <thead>\n",
       "    <tr style=\"text-align: right;\">\n",
       "      <th></th>\n",
       "      <th>salary</th>\n",
       "      <th>exprior</th>\n",
       "      <th>yearsworked</th>\n",
       "      <th>yearsrank</th>\n",
       "      <th>market</th>\n",
       "      <th>degree</th>\n",
       "      <th>otherqual</th>\n",
       "      <th>position</th>\n",
       "      <th>male</th>\n",
       "      <th>Field</th>\n",
       "      <th>yearsabs</th>\n",
       "    </tr>\n",
       "  </thead>\n",
       "  <tbody>\n",
       "    <tr>\n",
       "      <td>280</td>\n",
       "      <td>91405.0</td>\n",
       "      <td>0</td>\n",
       "      <td>23</td>\n",
       "      <td>14</td>\n",
       "      <td>1.18</td>\n",
       "      <td>1</td>\n",
       "      <td>0</td>\n",
       "      <td>3</td>\n",
       "      <td>1</td>\n",
       "      <td>1</td>\n",
       "      <td>0</td>\n",
       "    </tr>\n",
       "  </tbody>\n",
       "</table>\n",
       "</div>"
      ],
      "text/plain": [
       "      salary  exprior  yearsworked  yearsrank  market  degree  otherqual  \\\n",
       "280  91405.0        0           23         14    1.18       1          0   \n",
       "\n",
       "     position  male  Field  yearsabs  \n",
       "280         3     1      1         0  "
      ]
     },
     "execution_count": 66,
     "metadata": {},
     "output_type": "execute_result"
    }
   ],
   "source": [
    "x_train[(x_train[\"salary\"] > Q3)]"
   ]
  },
  {
   "cell_type": "markdown",
   "metadata": {},
   "source": [
    "### The scatter plot showing the relationship between salaries and years worked"
   ]
  },
  {
   "cell_type": "code",
   "execution_count": 135,
   "metadata": {},
   "outputs": [
    {
     "data": {
      "text/plain": [
       "<seaborn.axisgrid.FacetGrid at 0x7ff184733c10>"
      ]
     },
     "execution_count": 135,
     "metadata": {},
     "output_type": "execute_result"
    },
    {
     "data": {
      "image/png": "[encoded data removed]",
      "text/plain": [
       "<Figure size 360x360 with 1 Axes>"
      ]
     },
     "metadata": {
      "needs_background": "light"
     },
     "output_type": "display_data"
    }
   ],
   "source": [
    "sns.lmplot(x='yearsworked',y='salary',data=x_train)"
   ]
  },
  {
   "cell_type": "markdown",
   "metadata": {},
   "source": [
    "*There is a positive relationship between years worked and salaries earned.*"
   ]
  },
  {
   "cell_type": "code",
   "execution_count": 73,
   "metadata": {},
   "outputs": [],
   "source": [
    "Q1=x_train['salary'].quantile(0.25)\n",
    "Q3=x_train['salary'].quantile(0.75)"
   ]
  },
  {
   "cell_type": "code",
   "execution_count": 76,
   "metadata": {},
   "outputs": [],
   "source": [
    "x_train1=x_train[(x_train['salary']>Q1) & (x_train['salary']<Q3)]\n"
   ]
  },
  {
   "cell_type": "code",
   "execution_count": 77,
   "metadata": {},
   "outputs": [
    {
     "data": {
      "text/plain": [
       "<seaborn.axisgrid.FacetGrid at 0x7fc3b6c50610>"
      ]
     },
     "execution_count": 77,
     "metadata": {},
     "output_type": "execute_result"
    },
    {
     "data": {
      "image/png": "[encoded data removed]",
      "text/plain": [
       "<Figure size 360x360 with 1 Axes>"
      ]
     },
     "metadata": {
      "needs_background": "light"
     },
     "output_type": "display_data"
    }
   ],
   "source": [
    "sns.lmplot(x='yearsworked',y='salary',data=x_train1)"
   ]
  },
  {
   "cell_type": "code",
   "execution_count": 67,
   "metadata": {},
   "outputs": [
    {
     "ename": "AttributeError",
     "evalue": "module 'matplotlib' has no attribute 'hist'",
     "output_type": "error",
     "traceback": [
      "\u001b[0;31m---------------------------------------------------------------------------\u001b[0m",
      "\u001b[0;31mAttributeError\u001b[0m                            Traceback (most recent call last)",
      "\u001b[0;32m<ipython-input-67-587daffb024f>\u001b[0m in \u001b[0;36m<module>\u001b[0;34m\u001b[0m\n\u001b[0;32m----> 1\u001b[0;31m \u001b[0mplt\u001b[0m\u001b[0;34m.\u001b[0m\u001b[0mhist\u001b[0m\u001b[0;34m(\u001b[0m\u001b[0mx_train\u001b[0m\u001b[0;34m.\u001b[0m\u001b[0msalary\u001b[0m\u001b[0;34m)\u001b[0m\u001b[0;34m\u001b[0m\u001b[0;34m\u001b[0m\u001b[0m\n\u001b[0m",
      "\u001b[0;31mAttributeError\u001b[0m: module 'matplotlib' has no attribute 'hist'"
     ]
    }
   ],
   "source": [
    "plt.hist(x_train.salary)"
   ]
  },
  {
   "cell_type": "code",
   "execution_count": 139,
   "metadata": {},
   "outputs": [],
   "source": [
    "a=q_low - (1.5*IQR)"
   ]
  },
  {
   "cell_type": "code",
   "execution_count": 106,
   "metadata": {},
   "outputs": [
    {
     "data": {
      "text/plain": [
       "8769.099607500008"
      ]
     },
     "execution_count": 106,
     "metadata": {},
     "output_type": "execute_result"
    }
   ],
   "source": [
    "a"
   ]
  },
  {
   "cell_type": "code",
   "execution_count": 107,
   "metadata": {},
   "outputs": [],
   "source": [
    "b=q_high +(1.5*IQR)"
   ]
  },
  {
   "cell_type": "code",
   "execution_count": 108,
   "metadata": {},
   "outputs": [
    {
     "data": {
      "text/plain": [
       "114233.87883209999"
      ]
     },
     "execution_count": 108,
     "metadata": {},
     "output_type": "execute_result"
    }
   ],
   "source": [
    "b"
   ]
  },
  {
   "cell_type": "code",
   "execution_count": 141,
   "metadata": {},
   "outputs": [
    {
     "data": {
      "text/html": [
       "<div>\n",
       "<style scoped>\n",
       "    .dataframe tbody tr th:only-of-type {\n",
       "        vertical-align: middle;\n",
       "    }\n",
       "\n",
       "    .dataframe tbody tr th {\n",
       "        vertical-align: top;\n",
       "    }\n",
       "\n",
       "    .dataframe thead th {\n",
       "        text-align: right;\n",
       "    }\n",
       "</style>\n",
       "<table border=\"1\" class=\"dataframe\">\n",
       "  <thead>\n",
       "    <tr style=\"text-align: right;\">\n",
       "      <th></th>\n",
       "      <th>salary</th>\n",
       "      <th>exprior</th>\n",
       "      <th>yearsworked</th>\n",
       "      <th>yearsrank</th>\n",
       "      <th>market</th>\n",
       "      <th>degree</th>\n",
       "      <th>otherqual</th>\n",
       "      <th>position</th>\n",
       "      <th>male</th>\n",
       "      <th>Field</th>\n",
       "      <th>yearsabs</th>\n",
       "    </tr>\n",
       "  </thead>\n",
       "  <tbody>\n",
       "  </tbody>\n",
       "</table>\n",
       "</div>"
      ],
      "text/plain": [
       "Empty DataFrame\n",
       "Columns: [salary, exprior, yearsworked, yearsrank, market, degree, otherqual, position, male, Field, yearsabs]\n",
       "Index: []"
      ]
     },
     "execution_count": 141,
     "metadata": {},
     "output_type": "execute_result"
    }
   ],
   "source": [
    "x_train[x_train['salary'] > b]"
   ]
  },
  {
   "cell_type": "code",
   "execution_count": 140,
   "metadata": {},
   "outputs": [
    {
     "data": {
      "text/html": [
       "<div>\n",
       "<style scoped>\n",
       "    .dataframe tbody tr th:only-of-type {\n",
       "        vertical-align: middle;\n",
       "    }\n",
       "\n",
       "    .dataframe tbody tr th {\n",
       "        vertical-align: top;\n",
       "    }\n",
       "\n",
       "    .dataframe thead th {\n",
       "        text-align: right;\n",
       "    }\n",
       "</style>\n",
       "<table border=\"1\" class=\"dataframe\">\n",
       "  <thead>\n",
       "    <tr style=\"text-align: right;\">\n",
       "      <th></th>\n",
       "      <th>salary</th>\n",
       "      <th>exprior</th>\n",
       "      <th>yearsworked</th>\n",
       "      <th>yearsrank</th>\n",
       "      <th>market</th>\n",
       "      <th>degree</th>\n",
       "      <th>otherqual</th>\n",
       "      <th>position</th>\n",
       "      <th>male</th>\n",
       "      <th>Field</th>\n",
       "      <th>yearsabs</th>\n",
       "    </tr>\n",
       "  </thead>\n",
       "  <tbody>\n",
       "  </tbody>\n",
       "</table>\n",
       "</div>"
      ],
      "text/plain": [
       "Empty DataFrame\n",
       "Columns: [salary, exprior, yearsworked, yearsrank, market, degree, otherqual, position, male, Field, yearsabs]\n",
       "Index: []"
      ]
     },
     "execution_count": 140,
     "metadata": {},
     "output_type": "execute_result"
    }
   ],
   "source": [
    "x_train[x_train['salary'] <a]"
   ]
  },
  {
   "cell_type": "markdown",
   "metadata": {},
   "source": [
    "*Using the statsmodels package and the training data, \n",
    "run a simple linear regression for Salary with one predictor variable: Years Worked.*"
   ]
  },
  {
   "cell_type": "code",
   "execution_count": 142,
   "metadata": {},
   "outputs": [],
   "source": [
    "import numpy as np\n",
    "\n",
    "import statsmodels.api as sm\n",
    "\n",
    "import statsmodels.formula.api as smf"
   ]
  },
  {
   "cell_type": "code",
   "execution_count": 143,
   "metadata": {},
   "outputs": [],
   "source": [
    "mod = sm.OLS(x_train.yearsworked, x_train.salary)\n",
    "\n",
    "res = mod.fit()"
   ]
  },
  {
   "cell_type": "code",
   "execution_count": 146,
   "metadata": {},
   "outputs": [
    {
     "data": {
      "text/html": [
       "<table class=\"simpletable\">\n",
       "<caption>OLS Regression Results</caption>\n",
       "<tr>\n",
       "  <th>Dep. Variable:</th>       <td>yearsworked</td>   <th>  R-squared (uncentered):</th>      <td>   0.746</td> \n",
       "</tr>\n",
       "<tr>\n",
       "  <th>Model:</th>                   <td>OLS</td>       <th>  Adj. R-squared (uncentered):</th> <td>   0.745</td> \n",
       "</tr>\n",
       "<tr>\n",
       "  <th>Method:</th>             <td>Least Squares</td>  <th>  F-statistic:       </th>          <td>   1052.</td> \n",
       "</tr>\n",
       "<tr>\n",
       "  <th>Date:</th>             <td>Wed, 29 Jan 2020</td> <th>  Prob (F-statistic):</th>          <td>1.28e-108</td>\n",
       "</tr>\n",
       "<tr>\n",
       "  <th>Time:</th>                 <td>14:46:29</td>     <th>  Log-Likelihood:    </th>          <td> -1255.4</td> \n",
       "</tr>\n",
       "<tr>\n",
       "  <th>No. Observations:</th>      <td>   359</td>      <th>  AIC:               </th>          <td>   2513.</td> \n",
       "</tr>\n",
       "<tr>\n",
       "  <th>Df Residuals:</th>          <td>   358</td>      <th>  BIC:               </th>          <td>   2517.</td> \n",
       "</tr>\n",
       "<tr>\n",
       "  <th>Df Model:</th>              <td>     1</td>      <th>                     </th>              <td> </td>    \n",
       "</tr>\n",
       "<tr>\n",
       "  <th>Covariance Type:</th>      <td>nonrobust</td>    <th>                     </th>              <td> </td>    \n",
       "</tr>\n",
       "</table>\n",
       "<table class=\"simpletable\">\n",
       "<tr>\n",
       "     <td></td>       <th>coef</th>     <th>std err</th>      <th>t</th>      <th>P>|t|</th>  <th>[0.025</th>    <th>0.975]</th>  \n",
       "</tr>\n",
       "<tr>\n",
       "  <th>salary</th> <td>    0.0003</td> <td> 8.12e-06</td> <td>   32.439</td> <td> 0.000</td> <td>    0.000</td> <td>    0.000</td>\n",
       "</tr>\n",
       "</table>\n",
       "<table class=\"simpletable\">\n",
       "<tr>\n",
       "  <th>Omnibus:</th>       <td>28.488</td> <th>  Durbin-Watson:     </th> <td>   1.903</td>\n",
       "</tr>\n",
       "<tr>\n",
       "  <th>Prob(Omnibus):</th> <td> 0.000</td> <th>  Jarque-Bera (JB):  </th> <td>  12.267</td>\n",
       "</tr>\n",
       "<tr>\n",
       "  <th>Skew:</th>          <td> 0.224</td> <th>  Prob(JB):          </th> <td> 0.00217</td>\n",
       "</tr>\n",
       "<tr>\n",
       "  <th>Kurtosis:</th>      <td> 2.213</td> <th>  Cond. No.          </th> <td>    1.00</td>\n",
       "</tr>\n",
       "</table><br/><br/>Warnings:<br/>[1] Standard Errors assume that the covariance matrix of the errors is correctly specified."
      ],
      "text/plain": [
       "<class 'statsmodels.iolib.summary.Summary'>\n",
       "\"\"\"\n",
       "                                 OLS Regression Results                                \n",
       "=======================================================================================\n",
       "Dep. Variable:            yearsworked   R-squared (uncentered):                   0.746\n",
       "Model:                            OLS   Adj. R-squared (uncentered):              0.745\n",
       "Method:                 Least Squares   F-statistic:                              1052.\n",
       "Date:                Wed, 29 Jan 2020   Prob (F-statistic):                   1.28e-108\n",
       "Time:                        14:46:29   Log-Likelihood:                         -1255.4\n",
       "No. Observations:                 359   AIC:                                      2513.\n",
       "Df Residuals:                     358   BIC:                                      2517.\n",
       "Df Model:                           1                                                  \n",
       "Covariance Type:            nonrobust                                                  \n",
       "==============================================================================\n",
       "                 coef    std err          t      P>|t|      [0.025      0.975]\n",
       "------------------------------------------------------------------------------\n",
       "salary         0.0003   8.12e-06     32.439      0.000       0.000       0.000\n",
       "==============================================================================\n",
       "Omnibus:                       28.488   Durbin-Watson:                   1.903\n",
       "Prob(Omnibus):                  0.000   Jarque-Bera (JB):               12.267\n",
       "Skew:                           0.224   Prob(JB):                      0.00217\n",
       "Kurtosis:                       2.213   Cond. No.                         1.00\n",
       "==============================================================================\n",
       "\n",
       "Warnings:\n",
       "[1] Standard Errors assume that the covariance matrix of the errors is correctly specified.\n",
       "\"\"\""
      ]
     },
     "execution_count": 146,
     "metadata": {},
     "output_type": "execute_result"
    }
   ],
   "source": [
    "res.summary()"
   ]
  },
  {
   "cell_type": "code",
   "execution_count": null,
   "metadata": {},
   "outputs": [],
   "source": []
  }
 ],
 "metadata": {
  "kernelspec": {
   "display_name": "Python 3",
   "language": "python",
   "name": "python3"
  },
  "language_info": {
   "codemirror_mode": {
    "name": "ipython",
    "version": 3
   },
   "file_extension": ".py",
   "mimetype": "text/x-python",
   "name": "python",
   "nbconvert_exporter": "python",
   "pygments_lexer": "ipython3",
   "version": "3.7.4"
  }
 },
 "nbformat": 4,
 "nbformat_minor": 2
}
