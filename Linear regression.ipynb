{
 "cells": [
  {
   "cell_type": "markdown",
   "metadata": {},
   "source": [
    "# Linear Regression"
   ]
  },
  {
   "cell_type": "markdown",
   "metadata": {},
   "source": [
    "### Importing packages"
   ]
  },
  {
   "cell_type": "code",
   "execution_count": 457,
   "metadata": {},
   "outputs": [],
   "source": [
    "import pandas as pd\n",
    "import seaborn as sns\n",
    "import pandas as pd\n",
    "import matplotlib.pyplot as plt\n",
    "%matplotlib inline\n",
    "import statsmodels\n",
    "from scipy.stats import iqr\n",
    "import matplotlib as plt\n",
    "from sklearn.model_selection import train_test_split\n",
    "from scipy import stats\n",
    "from scipy.stats import pearsonr\n",
    "import statsmodels.formula.api as smf"
   ]
  },
  {
   "cell_type": "markdown",
   "metadata": {},
   "source": [
    "### Loading Dataset"
   ]
  },
  {
   "cell_type": "code",
   "execution_count": 438,
   "metadata": {},
   "outputs": [],
   "source": [
    "data = pd.read_csv('salary.csv')"
   ]
  },
  {
   "cell_type": "code",
   "execution_count": 439,
   "metadata": {},
   "outputs": [
    {
     "data": {
      "text/html": [
       "<div>\n",
       "<style scoped>\n",
       "    .dataframe tbody tr th:only-of-type {\n",
       "        vertical-align: middle;\n",
       "    }\n",
       "\n",
       "    .dataframe tbody tr th {\n",
       "        vertical-align: top;\n",
       "    }\n",
       "\n",
       "    .dataframe thead th {\n",
       "        text-align: right;\n",
       "    }\n",
       "</style>\n",
       "<table border=\"1\" class=\"dataframe\">\n",
       "  <thead>\n",
       "    <tr style=\"text-align: right;\">\n",
       "      <th></th>\n",
       "      <th>salary</th>\n",
       "      <th>exprior</th>\n",
       "      <th>yearsworked</th>\n",
       "      <th>yearsrank</th>\n",
       "      <th>market</th>\n",
       "      <th>degree</th>\n",
       "      <th>otherqual</th>\n",
       "      <th>position</th>\n",
       "      <th>male</th>\n",
       "      <th>Field</th>\n",
       "      <th>yearsabs</th>\n",
       "    </tr>\n",
       "  </thead>\n",
       "  <tbody>\n",
       "    <tr>\n",
       "      <td>0</td>\n",
       "      <td>53000.0</td>\n",
       "      <td>0</td>\n",
       "      <td>0</td>\n",
       "      <td>0</td>\n",
       "      <td>1.17</td>\n",
       "      <td>1</td>\n",
       "      <td>0</td>\n",
       "      <td>1</td>\n",
       "      <td>1</td>\n",
       "      <td>3</td>\n",
       "      <td>0</td>\n",
       "    </tr>\n",
       "    <tr>\n",
       "      <td>1</td>\n",
       "      <td>58000.0</td>\n",
       "      <td>1</td>\n",
       "      <td>0</td>\n",
       "      <td>0</td>\n",
       "      <td>1.24</td>\n",
       "      <td>1</td>\n",
       "      <td>0</td>\n",
       "      <td>1</td>\n",
       "      <td>1</td>\n",
       "      <td>2</td>\n",
       "      <td>0</td>\n",
       "    </tr>\n",
       "    <tr>\n",
       "      <td>2</td>\n",
       "      <td>45500.0</td>\n",
       "      <td>0</td>\n",
       "      <td>0</td>\n",
       "      <td>0</td>\n",
       "      <td>1.21</td>\n",
       "      <td>1</td>\n",
       "      <td>0</td>\n",
       "      <td>1</td>\n",
       "      <td>1</td>\n",
       "      <td>3</td>\n",
       "      <td>2</td>\n",
       "    </tr>\n",
       "    <tr>\n",
       "      <td>3</td>\n",
       "      <td>35782.0</td>\n",
       "      <td>0</td>\n",
       "      <td>2</td>\n",
       "      <td>1</td>\n",
       "      <td>0.99</td>\n",
       "      <td>1</td>\n",
       "      <td>0</td>\n",
       "      <td>1</td>\n",
       "      <td>1</td>\n",
       "      <td>4</td>\n",
       "      <td>1</td>\n",
       "    </tr>\n",
       "    <tr>\n",
       "      <td>4</td>\n",
       "      <td>34731.0</td>\n",
       "      <td>0</td>\n",
       "      <td>2</td>\n",
       "      <td>2</td>\n",
       "      <td>0.91</td>\n",
       "      <td>1</td>\n",
       "      <td>0</td>\n",
       "      <td>1</td>\n",
       "      <td>1</td>\n",
       "      <td>4</td>\n",
       "      <td>1</td>\n",
       "    </tr>\n",
       "  </tbody>\n",
       "</table>\n",
       "</div>"
      ],
      "text/plain": [
       "    salary  exprior  yearsworked  yearsrank  market  degree  otherqual  \\\n",
       "0  53000.0        0            0          0    1.17       1          0   \n",
       "1  58000.0        1            0          0    1.24       1          0   \n",
       "2  45500.0        0            0          0    1.21       1          0   \n",
       "3  35782.0        0            2          1    0.99       1          0   \n",
       "4  34731.0        0            2          2    0.91       1          0   \n",
       "\n",
       "   position  male  Field  yearsabs  \n",
       "0         1     1      3         0  \n",
       "1         1     1      2         0  \n",
       "2         1     1      3         2  \n",
       "3         1     1      4         1  \n",
       "4         1     1      4         1  "
      ]
     },
     "execution_count": 439,
     "metadata": {},
     "output_type": "execute_result"
    }
   ],
   "source": [
    "data.head()"
   ]
  },
  {
   "cell_type": "markdown",
   "metadata": {},
   "source": [
    "## Preparing data"
   ]
  },
  {
   "cell_type": "markdown",
   "metadata": {},
   "source": [
    "### Checking for missing values"
   ]
  },
  {
   "cell_type": "code",
   "execution_count": 353,
   "metadata": {},
   "outputs": [
    {
     "data": {
      "text/plain": [
       "salary         1\n",
       "exprior        0\n",
       "yearsworked    0\n",
       "yearsrank      0\n",
       "market         0\n",
       "degree         0\n",
       "otherqual      0\n",
       "position       0\n",
       "male           0\n",
       "Field          0\n",
       "yearsabs       0\n",
       "dtype: int64"
      ]
     },
     "execution_count": 353,
     "metadata": {},
     "output_type": "execute_result"
    }
   ],
   "source": [
    "data.isna().sum()"
   ]
  },
  {
   "cell_type": "code",
   "execution_count": 441,
   "metadata": {},
   "outputs": [],
   "source": [
    "data['salary'].fillna(data['salary'].mean(),inplace=True)"
   ]
  },
  {
   "cell_type": "markdown",
   "metadata": {},
   "source": [
    "*Replaced the null value in salary with mean value of salary*"
   ]
  },
  {
   "cell_type": "markdown",
   "metadata": {},
   "source": [
    "### Dropping duplicates"
   ]
  },
  {
   "cell_type": "code",
   "execution_count": 440,
   "metadata": {},
   "outputs": [],
   "source": [
    "data =data.drop_duplicates()"
   ]
  },
  {
   "cell_type": "markdown",
   "metadata": {},
   "source": [
    "### Correlation of features"
   ]
  },
  {
   "cell_type": "code",
   "execution_count": 442,
   "metadata": {},
   "outputs": [
    {
     "data": {
      "text/html": [
       "<style  type=\"text/css\" >\n",
       "    #T_768066aa_48c3_11ea_a665_cf398650fefdrow0_col0 {\n",
       "            background-color:  #b40426;\n",
       "            color:  #f1f1f1;\n",
       "        }    #T_768066aa_48c3_11ea_a665_cf398650fefdrow0_col1 {\n",
       "            background-color:  #9dbdff;\n",
       "            color:  #000000;\n",
       "        }    #T_768066aa_48c3_11ea_a665_cf398650fefdrow0_col2 {\n",
       "            background-color:  #f7ac8e;\n",
       "            color:  #000000;\n",
       "        }    #T_768066aa_48c3_11ea_a665_cf398650fefdrow0_col3 {\n",
       "            background-color:  #f7af91;\n",
       "            color:  #000000;\n",
       "        }    #T_768066aa_48c3_11ea_a665_cf398650fefdrow0_col4 {\n",
       "            background-color:  #e0dbd8;\n",
       "            color:  #000000;\n",
       "        }    #T_768066aa_48c3_11ea_a665_cf398650fefdrow0_col5 {\n",
       "            background-color:  #80a3fa;\n",
       "            color:  #000000;\n",
       "        }    #T_768066aa_48c3_11ea_a665_cf398650fefdrow0_col6 {\n",
       "            background-color:  #a3c2fe;\n",
       "            color:  #000000;\n",
       "        }    #T_768066aa_48c3_11ea_a665_cf398650fefdrow0_col7 {\n",
       "            background-color:  #f29274;\n",
       "            color:  #000000;\n",
       "        }    #T_768066aa_48c3_11ea_a665_cf398650fefdrow0_col8 {\n",
       "            background-color:  #f2c9b4;\n",
       "            color:  #000000;\n",
       "        }    #T_768066aa_48c3_11ea_a665_cf398650fefdrow0_col9 {\n",
       "            background-color:  #3b4cc0;\n",
       "            color:  #f1f1f1;\n",
       "        }    #T_768066aa_48c3_11ea_a665_cf398650fefdrow0_col10 {\n",
       "            background-color:  #adc9fd;\n",
       "            color:  #000000;\n",
       "        }    #T_768066aa_48c3_11ea_a665_cf398650fefdrow1_col0 {\n",
       "            background-color:  #c4d5f3;\n",
       "            color:  #000000;\n",
       "        }    #T_768066aa_48c3_11ea_a665_cf398650fefdrow1_col1 {\n",
       "            background-color:  #b40426;\n",
       "            color:  #f1f1f1;\n",
       "        }    #T_768066aa_48c3_11ea_a665_cf398650fefdrow1_col2 {\n",
       "            background-color:  #3e51c5;\n",
       "            color:  #f1f1f1;\n",
       "        }    #T_768066aa_48c3_11ea_a665_cf398650fefdrow1_col3 {\n",
       "            background-color:  #6c8ff1;\n",
       "            color:  #000000;\n",
       "        }    #T_768066aa_48c3_11ea_a665_cf398650fefdrow1_col4 {\n",
       "            background-color:  #6b8df0;\n",
       "            color:  #000000;\n",
       "        }    #T_768066aa_48c3_11ea_a665_cf398650fefdrow1_col5 {\n",
       "            background-color:  #6485ec;\n",
       "            color:  #000000;\n",
       "        }    #T_768066aa_48c3_11ea_a665_cf398650fefdrow1_col6 {\n",
       "            background-color:  #bfd3f6;\n",
       "            color:  #000000;\n",
       "        }    #T_768066aa_48c3_11ea_a665_cf398650fefdrow1_col7 {\n",
       "            background-color:  #a3c2fe;\n",
       "            color:  #000000;\n",
       "        }    #T_768066aa_48c3_11ea_a665_cf398650fefdrow1_col8 {\n",
       "            background-color:  #c4d5f3;\n",
       "            color:  #000000;\n",
       "        }    #T_768066aa_48c3_11ea_a665_cf398650fefdrow1_col9 {\n",
       "            background-color:  #9ebeff;\n",
       "            color:  #000000;\n",
       "        }    #T_768066aa_48c3_11ea_a665_cf398650fefdrow1_col10 {\n",
       "            background-color:  #d4dbe6;\n",
       "            color:  #000000;\n",
       "        }    #T_768066aa_48c3_11ea_a665_cf398650fefdrow2_col0 {\n",
       "            background-color:  #f49a7b;\n",
       "            color:  #000000;\n",
       "        }    #T_768066aa_48c3_11ea_a665_cf398650fefdrow2_col1 {\n",
       "            background-color:  #3b4cc0;\n",
       "            color:  #f1f1f1;\n",
       "        }    #T_768066aa_48c3_11ea_a665_cf398650fefdrow2_col2 {\n",
       "            background-color:  #b40426;\n",
       "            color:  #f1f1f1;\n",
       "        }    #T_768066aa_48c3_11ea_a665_cf398650fefdrow2_col3 {\n",
       "            background-color:  #e36b54;\n",
       "            color:  #000000;\n",
       "        }    #T_768066aa_48c3_11ea_a665_cf398650fefdrow2_col4 {\n",
       "            background-color:  #6180e9;\n",
       "            color:  #000000;\n",
       "        }    #T_768066aa_48c3_11ea_a665_cf398650fefdrow2_col5 {\n",
       "            background-color:  #7b9ff9;\n",
       "            color:  #000000;\n",
       "        }    #T_768066aa_48c3_11ea_a665_cf398650fefdrow2_col6 {\n",
       "            background-color:  #6788ee;\n",
       "            color:  #000000;\n",
       "        }    #T_768066aa_48c3_11ea_a665_cf398650fefdrow2_col7 {\n",
       "            background-color:  #ed8366;\n",
       "            color:  #000000;\n",
       "        }    #T_768066aa_48c3_11ea_a665_cf398650fefdrow2_col8 {\n",
       "            background-color:  #ead4c8;\n",
       "            color:  #000000;\n",
       "        }    #T_768066aa_48c3_11ea_a665_cf398650fefdrow2_col9 {\n",
       "            background-color:  #6c8ff1;\n",
       "            color:  #000000;\n",
       "        }    #T_768066aa_48c3_11ea_a665_cf398650fefdrow2_col10 {\n",
       "            background-color:  #c5d6f2;\n",
       "            color:  #000000;\n",
       "        }    #T_768066aa_48c3_11ea_a665_cf398650fefdrow3_col0 {\n",
       "            background-color:  #f59d7e;\n",
       "            color:  #000000;\n",
       "        }    #T_768066aa_48c3_11ea_a665_cf398650fefdrow3_col1 {\n",
       "            background-color:  #6788ee;\n",
       "            color:  #000000;\n",
       "        }    #T_768066aa_48c3_11ea_a665_cf398650fefdrow3_col2 {\n",
       "            background-color:  #e36b54;\n",
       "            color:  #000000;\n",
       "        }    #T_768066aa_48c3_11ea_a665_cf398650fefdrow3_col3 {\n",
       "            background-color:  #b40426;\n",
       "            color:  #f1f1f1;\n",
       "        }    #T_768066aa_48c3_11ea_a665_cf398650fefdrow3_col4 {\n",
       "            background-color:  #6e90f2;\n",
       "            color:  #000000;\n",
       "        }    #T_768066aa_48c3_11ea_a665_cf398650fefdrow3_col5 {\n",
       "            background-color:  #7597f6;\n",
       "            color:  #000000;\n",
       "        }    #T_768066aa_48c3_11ea_a665_cf398650fefdrow3_col6 {\n",
       "            background-color:  #7597f6;\n",
       "            color:  #000000;\n",
       "        }    #T_768066aa_48c3_11ea_a665_cf398650fefdrow3_col7 {\n",
       "            background-color:  #f2cbb7;\n",
       "            color:  #000000;\n",
       "        }    #T_768066aa_48c3_11ea_a665_cf398650fefdrow3_col8 {\n",
       "            background-color:  #e4d9d2;\n",
       "            color:  #000000;\n",
       "        }    #T_768066aa_48c3_11ea_a665_cf398650fefdrow3_col9 {\n",
       "            background-color:  #6c8ff1;\n",
       "            color:  #000000;\n",
       "        }    #T_768066aa_48c3_11ea_a665_cf398650fefdrow3_col10 {\n",
       "            background-color:  #c1d4f4;\n",
       "            color:  #000000;\n",
       "        }    #T_768066aa_48c3_11ea_a665_cf398650fefdrow4_col0 {\n",
       "            background-color:  #f2cab5;\n",
       "            color:  #000000;\n",
       "        }    #T_768066aa_48c3_11ea_a665_cf398650fefdrow4_col1 {\n",
       "            background-color:  #7093f3;\n",
       "            color:  #000000;\n",
       "        }    #T_768066aa_48c3_11ea_a665_cf398650fefdrow4_col2 {\n",
       "            background-color:  #6a8bef;\n",
       "            color:  #000000;\n",
       "        }    #T_768066aa_48c3_11ea_a665_cf398650fefdrow4_col3 {\n",
       "            background-color:  #7699f6;\n",
       "            color:  #000000;\n",
       "        }    #T_768066aa_48c3_11ea_a665_cf398650fefdrow4_col4 {\n",
       "            background-color:  #b40426;\n",
       "            color:  #f1f1f1;\n",
       "        }    #T_768066aa_48c3_11ea_a665_cf398650fefdrow4_col5 {\n",
       "            background-color:  #7da0f9;\n",
       "            color:  #000000;\n",
       "        }    #T_768066aa_48c3_11ea_a665_cf398650fefdrow4_col6 {\n",
       "            background-color:  #799cf8;\n",
       "            color:  #000000;\n",
       "        }    #T_768066aa_48c3_11ea_a665_cf398650fefdrow4_col7 {\n",
       "            background-color:  #80a3fa;\n",
       "            color:  #000000;\n",
       "        }    #T_768066aa_48c3_11ea_a665_cf398650fefdrow4_col8 {\n",
       "            background-color:  #dbdcde;\n",
       "            color:  #000000;\n",
       "        }    #T_768066aa_48c3_11ea_a665_cf398650fefdrow4_col9 {\n",
       "            background-color:  #7597f6;\n",
       "            color:  #000000;\n",
       "        }    #T_768066aa_48c3_11ea_a665_cf398650fefdrow4_col10 {\n",
       "            background-color:  #97b8ff;\n",
       "            color:  #000000;\n",
       "        }    #T_768066aa_48c3_11ea_a665_cf398650fefdrow5_col0 {\n",
       "            background-color:  #b3cdfb;\n",
       "            color:  #000000;\n",
       "        }    #T_768066aa_48c3_11ea_a665_cf398650fefdrow5_col1 {\n",
       "            background-color:  #6c8ff1;\n",
       "            color:  #000000;\n",
       "        }    #T_768066aa_48c3_11ea_a665_cf398650fefdrow5_col2 {\n",
       "            background-color:  #85a8fc;\n",
       "            color:  #000000;\n",
       "        }    #T_768066aa_48c3_11ea_a665_cf398650fefdrow5_col3 {\n",
       "            background-color:  #80a3fa;\n",
       "            color:  #000000;\n",
       "        }    #T_768066aa_48c3_11ea_a665_cf398650fefdrow5_col4 {\n",
       "            background-color:  #80a3fa;\n",
       "            color:  #000000;\n",
       "        }    #T_768066aa_48c3_11ea_a665_cf398650fefdrow5_col5 {\n",
       "            background-color:  #b40426;\n",
       "            color:  #f1f1f1;\n",
       "        }    #T_768066aa_48c3_11ea_a665_cf398650fefdrow5_col6 {\n",
       "            background-color:  #3b4cc0;\n",
       "            color:  #f1f1f1;\n",
       "        }    #T_768066aa_48c3_11ea_a665_cf398650fefdrow5_col7 {\n",
       "            background-color:  #90b2fe;\n",
       "            color:  #000000;\n",
       "        }    #T_768066aa_48c3_11ea_a665_cf398650fefdrow5_col8 {\n",
       "            background-color:  #c6d6f1;\n",
       "            color:  #000000;\n",
       "        }    #T_768066aa_48c3_11ea_a665_cf398650fefdrow5_col9 {\n",
       "            background-color:  #93b5fe;\n",
       "            color:  #000000;\n",
       "        }    #T_768066aa_48c3_11ea_a665_cf398650fefdrow5_col10 {\n",
       "            background-color:  #c0d4f5;\n",
       "            color:  #000000;\n",
       "        }    #T_768066aa_48c3_11ea_a665_cf398650fefdrow6_col0 {\n",
       "            background-color:  #cdd9ec;\n",
       "            color:  #000000;\n",
       "        }    #T_768066aa_48c3_11ea_a665_cf398650fefdrow6_col1 {\n",
       "            background-color:  #c4d5f3;\n",
       "            color:  #000000;\n",
       "        }    #T_768066aa_48c3_11ea_a665_cf398650fefdrow6_col2 {\n",
       "            background-color:  #7295f4;\n",
       "            color:  #000000;\n",
       "        }    #T_768066aa_48c3_11ea_a665_cf398650fefdrow6_col3 {\n",
       "            background-color:  #80a3fa;\n",
       "            color:  #000000;\n",
       "        }    #T_768066aa_48c3_11ea_a665_cf398650fefdrow6_col4 {\n",
       "            background-color:  #7b9ff9;\n",
       "            color:  #000000;\n",
       "        }    #T_768066aa_48c3_11ea_a665_cf398650fefdrow6_col5 {\n",
       "            background-color:  #3b4cc0;\n",
       "            color:  #f1f1f1;\n",
       "        }    #T_768066aa_48c3_11ea_a665_cf398650fefdrow6_col6 {\n",
       "            background-color:  #b40426;\n",
       "            color:  #f1f1f1;\n",
       "        }    #T_768066aa_48c3_11ea_a665_cf398650fefdrow6_col7 {\n",
       "            background-color:  #afcafc;\n",
       "            color:  #000000;\n",
       "        }    #T_768066aa_48c3_11ea_a665_cf398650fefdrow6_col8 {\n",
       "            background-color:  #bed2f6;\n",
       "            color:  #000000;\n",
       "        }    #T_768066aa_48c3_11ea_a665_cf398650fefdrow6_col9 {\n",
       "            background-color:  #98b9ff;\n",
       "            color:  #000000;\n",
       "        }    #T_768066aa_48c3_11ea_a665_cf398650fefdrow6_col10 {\n",
       "            background-color:  #b7cff9;\n",
       "            color:  #000000;\n",
       "        }    #T_768066aa_48c3_11ea_a665_cf398650fefdrow7_col0 {\n",
       "            background-color:  #ee8468;\n",
       "            color:  #000000;\n",
       "        }    #T_768066aa_48c3_11ea_a665_cf398650fefdrow7_col1 {\n",
       "            background-color:  #9bbcff;\n",
       "            color:  #000000;\n",
       "        }    #T_768066aa_48c3_11ea_a665_cf398650fefdrow7_col2 {\n",
       "            background-color:  #ee8468;\n",
       "            color:  #000000;\n",
       "        }    #T_768066aa_48c3_11ea_a665_cf398650fefdrow7_col3 {\n",
       "            background-color:  #f1cdba;\n",
       "            color:  #000000;\n",
       "        }    #T_768066aa_48c3_11ea_a665_cf398650fefdrow7_col4 {\n",
       "            background-color:  #7295f4;\n",
       "            color:  #000000;\n",
       "        }    #T_768066aa_48c3_11ea_a665_cf398650fefdrow7_col5 {\n",
       "            background-color:  #80a3fa;\n",
       "            color:  #000000;\n",
       "        }    #T_768066aa_48c3_11ea_a665_cf398650fefdrow7_col6 {\n",
       "            background-color:  #a2c1ff;\n",
       "            color:  #000000;\n",
       "        }    #T_768066aa_48c3_11ea_a665_cf398650fefdrow7_col7 {\n",
       "            background-color:  #b40426;\n",
       "            color:  #f1f1f1;\n",
       "        }    #T_768066aa_48c3_11ea_a665_cf398650fefdrow7_col8 {\n",
       "            background-color:  #efcfbf;\n",
       "            color:  #000000;\n",
       "        }    #T_768066aa_48c3_11ea_a665_cf398650fefdrow7_col9 {\n",
       "            background-color:  #6687ed;\n",
       "            color:  #000000;\n",
       "        }    #T_768066aa_48c3_11ea_a665_cf398650fefdrow7_col10 {\n",
       "            background-color:  #c0d4f5;\n",
       "            color:  #000000;\n",
       "        }    #T_768066aa_48c3_11ea_a665_cf398650fefdrow8_col0 {\n",
       "            background-color:  #edd1c2;\n",
       "            color:  #000000;\n",
       "        }    #T_768066aa_48c3_11ea_a665_cf398650fefdrow8_col1 {\n",
       "            background-color:  #88abfd;\n",
       "            color:  #000000;\n",
       "        }    #T_768066aa_48c3_11ea_a665_cf398650fefdrow8_col2 {\n",
       "            background-color:  #c9d7f0;\n",
       "            color:  #000000;\n",
       "        }    #T_768066aa_48c3_11ea_a665_cf398650fefdrow8_col3 {\n",
       "            background-color:  #bfd3f6;\n",
       "            color:  #000000;\n",
       "        }    #T_768066aa_48c3_11ea_a665_cf398650fefdrow8_col4 {\n",
       "            background-color:  #a9c6fd;\n",
       "            color:  #000000;\n",
       "        }    #T_768066aa_48c3_11ea_a665_cf398650fefdrow8_col5 {\n",
       "            background-color:  #85a8fc;\n",
       "            color:  #000000;\n",
       "        }    #T_768066aa_48c3_11ea_a665_cf398650fefdrow8_col6 {\n",
       "            background-color:  #779af7;\n",
       "            color:  #000000;\n",
       "        }    #T_768066aa_48c3_11ea_a665_cf398650fefdrow8_col7 {\n",
       "            background-color:  #d5dbe5;\n",
       "            color:  #000000;\n",
       "        }    #T_768066aa_48c3_11ea_a665_cf398650fefdrow8_col8 {\n",
       "            background-color:  #b40426;\n",
       "            color:  #f1f1f1;\n",
       "        }    #T_768066aa_48c3_11ea_a665_cf398650fefdrow8_col9 {\n",
       "            background-color:  #8caffe;\n",
       "            color:  #000000;\n",
       "        }    #T_768066aa_48c3_11ea_a665_cf398650fefdrow8_col10 {\n",
       "            background-color:  #3b4cc0;\n",
       "            color:  #f1f1f1;\n",
       "        }    #T_768066aa_48c3_11ea_a665_cf398650fefdrow9_col0 {\n",
       "            background-color:  #3b4cc0;\n",
       "            color:  #f1f1f1;\n",
       "        }    #T_768066aa_48c3_11ea_a665_cf398650fefdrow9_col1 {\n",
       "            background-color:  #6c8ff1;\n",
       "            color:  #000000;\n",
       "        }    #T_768066aa_48c3_11ea_a665_cf398650fefdrow9_col2 {\n",
       "            background-color:  #3b4cc0;\n",
       "            color:  #f1f1f1;\n",
       "        }    #T_768066aa_48c3_11ea_a665_cf398650fefdrow9_col3 {\n",
       "            background-color:  #3b4cc0;\n",
       "            color:  #f1f1f1;\n",
       "        }    #T_768066aa_48c3_11ea_a665_cf398650fefdrow9_col4 {\n",
       "            background-color:  #3b4cc0;\n",
       "            color:  #f1f1f1;\n",
       "        }    #T_768066aa_48c3_11ea_a665_cf398650fefdrow9_col5 {\n",
       "            background-color:  #5875e1;\n",
       "            color:  #000000;\n",
       "        }    #T_768066aa_48c3_11ea_a665_cf398650fefdrow9_col6 {\n",
       "            background-color:  #5e7de7;\n",
       "            color:  #000000;\n",
       "        }    #T_768066aa_48c3_11ea_a665_cf398650fefdrow9_col7 {\n",
       "            background-color:  #3b4cc0;\n",
       "            color:  #f1f1f1;\n",
       "        }    #T_768066aa_48c3_11ea_a665_cf398650fefdrow9_col8 {\n",
       "            background-color:  #9fbfff;\n",
       "            color:  #000000;\n",
       "        }    #T_768066aa_48c3_11ea_a665_cf398650fefdrow9_col9 {\n",
       "            background-color:  #b40426;\n",
       "            color:  #f1f1f1;\n",
       "        }    #T_768066aa_48c3_11ea_a665_cf398650fefdrow9_col10 {\n",
       "            background-color:  #bbd1f8;\n",
       "            color:  #000000;\n",
       "        }    #T_768066aa_48c3_11ea_a665_cf398650fefdrow10_col0 {\n",
       "            background-color:  #9abbff;\n",
       "            color:  #000000;\n",
       "        }    #T_768066aa_48c3_11ea_a665_cf398650fefdrow10_col1 {\n",
       "            background-color:  #9fbfff;\n",
       "            color:  #000000;\n",
       "        }    #T_768066aa_48c3_11ea_a665_cf398650fefdrow10_col2 {\n",
       "            background-color:  #8db0fe;\n",
       "            color:  #000000;\n",
       "        }    #T_768066aa_48c3_11ea_a665_cf398650fefdrow10_col3 {\n",
       "            background-color:  #88abfd;\n",
       "            color:  #000000;\n",
       "        }    #T_768066aa_48c3_11ea_a665_cf398650fefdrow10_col4 {\n",
       "            background-color:  #485fd1;\n",
       "            color:  #f1f1f1;\n",
       "        }    #T_768066aa_48c3_11ea_a665_cf398650fefdrow10_col5 {\n",
       "            background-color:  #7b9ff9;\n",
       "            color:  #000000;\n",
       "        }    #T_768066aa_48c3_11ea_a665_cf398650fefdrow10_col6 {\n",
       "            background-color:  #6e90f2;\n",
       "            color:  #000000;\n",
       "        }    #T_768066aa_48c3_11ea_a665_cf398650fefdrow10_col7 {\n",
       "            background-color:  #8caffe;\n",
       "            color:  #000000;\n",
       "        }    #T_768066aa_48c3_11ea_a665_cf398650fefdrow10_col8 {\n",
       "            background-color:  #3b4cc0;\n",
       "            color:  #f1f1f1;\n",
       "        }    #T_768066aa_48c3_11ea_a665_cf398650fefdrow10_col9 {\n",
       "            background-color:  #aac7fd;\n",
       "            color:  #000000;\n",
       "        }    #T_768066aa_48c3_11ea_a665_cf398650fefdrow10_col10 {\n",
       "            background-color:  #b40426;\n",
       "            color:  #f1f1f1;\n",
       "        }</style><table id=\"T_768066aa_48c3_11ea_a665_cf398650fefd\" ><thead>    <tr>        <th class=\"blank level0\" ></th>        <th class=\"col_heading level0 col0\" >salary</th>        <th class=\"col_heading level0 col1\" >exprior</th>        <th class=\"col_heading level0 col2\" >yearsworked</th>        <th class=\"col_heading level0 col3\" >yearsrank</th>        <th class=\"col_heading level0 col4\" >market</th>        <th class=\"col_heading level0 col5\" >degree</th>        <th class=\"col_heading level0 col6\" >otherqual</th>        <th class=\"col_heading level0 col7\" >position</th>        <th class=\"col_heading level0 col8\" >male</th>        <th class=\"col_heading level0 col9\" >Field</th>        <th class=\"col_heading level0 col10\" >yearsabs</th>    </tr></thead><tbody>\n",
       "                <tr>\n",
       "                        <th id=\"T_768066aa_48c3_11ea_a665_cf398650fefdlevel0_row0\" class=\"row_heading level0 row0\" >salary</th>\n",
       "                        <td id=\"T_768066aa_48c3_11ea_a665_cf398650fefdrow0_col0\" class=\"data row0 col0\" >1</td>\n",
       "                        <td id=\"T_768066aa_48c3_11ea_a665_cf398650fefdrow0_col1\" class=\"data row0 col1\" >0.119946</td>\n",
       "                        <td id=\"T_768066aa_48c3_11ea_a665_cf398650fefdrow0_col2\" class=\"data row0 col2\" >0.623135</td>\n",
       "                        <td id=\"T_768066aa_48c3_11ea_a665_cf398650fefdrow0_col3\" class=\"data row0 col3\" >0.61058</td>\n",
       "                        <td id=\"T_768066aa_48c3_11ea_a665_cf398650fefdrow0_col4\" class=\"data row0 col4\" >0.407208</td>\n",
       "                        <td id=\"T_768066aa_48c3_11ea_a665_cf398650fefdrow0_col5\" class=\"data row0 col5\" >0.0445522</td>\n",
       "                        <td id=\"T_768066aa_48c3_11ea_a665_cf398650fefdrow0_col6\" class=\"data row0 col6\" >0.167129</td>\n",
       "                        <td id=\"T_768066aa_48c3_11ea_a665_cf398650fefdrow0_col7\" class=\"data row0 col7\" >0.701354</td>\n",
       "                        <td id=\"T_768066aa_48c3_11ea_a665_cf398650fefdrow0_col8\" class=\"data row0 col8\" >0.361447</td>\n",
       "                        <td id=\"T_768066aa_48c3_11ea_a665_cf398650fefdrow0_col9\" class=\"data row0 col9\" >-0.498485</td>\n",
       "                        <td id=\"T_768066aa_48c3_11ea_a665_cf398650fefdrow0_col10\" class=\"data row0 col10\" >-0.0696218</td>\n",
       "            </tr>\n",
       "            <tr>\n",
       "                        <th id=\"T_768066aa_48c3_11ea_a665_cf398650fefdlevel0_row1\" class=\"row_heading level0 row1\" >exprior</th>\n",
       "                        <td id=\"T_768066aa_48c3_11ea_a665_cf398650fefdrow1_col0\" class=\"data row1 col0\" >0.119946</td>\n",
       "                        <td id=\"T_768066aa_48c3_11ea_a665_cf398650fefdrow1_col1\" class=\"data row1 col1\" >1</td>\n",
       "                        <td id=\"T_768066aa_48c3_11ea_a665_cf398650fefdrow1_col2\" class=\"data row1 col2\" >-0.246549</td>\n",
       "                        <td id=\"T_768066aa_48c3_11ea_a665_cf398650fefdrow1_col3\" class=\"data row1 col3\" >-0.066403</td>\n",
       "                        <td id=\"T_768066aa_48c3_11ea_a665_cf398650fefdrow1_col4\" class=\"data row1 col4\" >-0.0350411</td>\n",
       "                        <td id=\"T_768066aa_48c3_11ea_a665_cf398650fefdrow1_col5\" class=\"data row1 col5\" >-0.0493727</td>\n",
       "                        <td id=\"T_768066aa_48c3_11ea_a665_cf398650fefdrow1_col6\" class=\"data row1 col6\" >0.264804</td>\n",
       "                        <td id=\"T_768066aa_48c3_11ea_a665_cf398650fefdrow1_col7\" class=\"data row1 col7\" >0.116596</td>\n",
       "                        <td id=\"T_768066aa_48c3_11ea_a665_cf398650fefdrow1_col8\" class=\"data row1 col8\" >0.0465577</td>\n",
       "                        <td id=\"T_768066aa_48c3_11ea_a665_cf398650fefdrow1_col9\" class=\"data row1 col9\" >-0.0483155</td>\n",
       "                        <td id=\"T_768066aa_48c3_11ea_a665_cf398650fefdrow1_col10\" class=\"data row1 col10\" >0.13238</td>\n",
       "            </tr>\n",
       "            <tr>\n",
       "                        <th id=\"T_768066aa_48c3_11ea_a665_cf398650fefdlevel0_row2\" class=\"row_heading level0 row2\" >yearsworked</th>\n",
       "                        <td id=\"T_768066aa_48c3_11ea_a665_cf398650fefdrow2_col0\" class=\"data row2 col0\" >0.623135</td>\n",
       "                        <td id=\"T_768066aa_48c3_11ea_a665_cf398650fefdrow2_col1\" class=\"data row2 col1\" >-0.246549</td>\n",
       "                        <td id=\"T_768066aa_48c3_11ea_a665_cf398650fefdrow2_col2\" class=\"data row2 col2\" >1</td>\n",
       "                        <td id=\"T_768066aa_48c3_11ea_a665_cf398650fefdrow2_col3\" class=\"data row2 col3\" >0.813471</td>\n",
       "                        <td id=\"T_768066aa_48c3_11ea_a665_cf398650fefdrow2_col4\" class=\"data row2 col4\" >-0.0708964</td>\n",
       "                        <td id=\"T_768066aa_48c3_11ea_a665_cf398650fefdrow2_col5\" class=\"data row2 col5\" >0.028421</td>\n",
       "                        <td id=\"T_768066aa_48c3_11ea_a665_cf398650fefdrow2_col6\" class=\"data row2 col6\" >-0.04049</td>\n",
       "                        <td id=\"T_768066aa_48c3_11ea_a665_cf398650fefdrow2_col7\" class=\"data row2 col7\" >0.746736</td>\n",
       "                        <td id=\"T_768066aa_48c3_11ea_a665_cf398650fefdrow2_col8\" class=\"data row2 col8\" >0.278963</td>\n",
       "                        <td id=\"T_768066aa_48c3_11ea_a665_cf398650fefdrow2_col9\" class=\"data row2 col9\" >-0.261379</td>\n",
       "                        <td id=\"T_768066aa_48c3_11ea_a665_cf398650fefdrow2_col10\" class=\"data row2 col10\" >0.0554682</td>\n",
       "            </tr>\n",
       "            <tr>\n",
       "                        <th id=\"T_768066aa_48c3_11ea_a665_cf398650fefdlevel0_row3\" class=\"row_heading level0 row3\" >yearsrank</th>\n",
       "                        <td id=\"T_768066aa_48c3_11ea_a665_cf398650fefdrow3_col0\" class=\"data row3 col0\" >0.61058</td>\n",
       "                        <td id=\"T_768066aa_48c3_11ea_a665_cf398650fefdrow3_col1\" class=\"data row3 col1\" >-0.066403</td>\n",
       "                        <td id=\"T_768066aa_48c3_11ea_a665_cf398650fefdrow3_col2\" class=\"data row3 col2\" >0.813471</td>\n",
       "                        <td id=\"T_768066aa_48c3_11ea_a665_cf398650fefdrow3_col3\" class=\"data row3 col3\" >1</td>\n",
       "                        <td id=\"T_768066aa_48c3_11ea_a665_cf398650fefdrow3_col4\" class=\"data row3 col4\" >-0.0269746</td>\n",
       "                        <td id=\"T_768066aa_48c3_11ea_a665_cf398650fefdrow3_col5\" class=\"data row3 col5\" >0.00651583</td>\n",
       "                        <td id=\"T_768066aa_48c3_11ea_a665_cf398650fefdrow3_col6\" class=\"data row3 col6\" >0.0070362</td>\n",
       "                        <td id=\"T_768066aa_48c3_11ea_a665_cf398650fefdrow3_col7\" class=\"data row3 col7\" >0.48521</td>\n",
       "                        <td id=\"T_768066aa_48c3_11ea_a665_cf398650fefdrow3_col8\" class=\"data row3 col8\" >0.237787</td>\n",
       "                        <td id=\"T_768066aa_48c3_11ea_a665_cf398650fefdrow3_col9\" class=\"data row3 col9\" >-0.263953</td>\n",
       "                        <td id=\"T_768066aa_48c3_11ea_a665_cf398650fefdrow3_col10\" class=\"data row3 col10\" >0.0356316</td>\n",
       "            </tr>\n",
       "            <tr>\n",
       "                        <th id=\"T_768066aa_48c3_11ea_a665_cf398650fefdlevel0_row4\" class=\"row_heading level0 row4\" >market</th>\n",
       "                        <td id=\"T_768066aa_48c3_11ea_a665_cf398650fefdrow4_col0\" class=\"data row4 col0\" >0.407208</td>\n",
       "                        <td id=\"T_768066aa_48c3_11ea_a665_cf398650fefdrow4_col1\" class=\"data row4 col1\" >-0.0350411</td>\n",
       "                        <td id=\"T_768066aa_48c3_11ea_a665_cf398650fefdrow4_col2\" class=\"data row4 col2\" >-0.0708964</td>\n",
       "                        <td id=\"T_768066aa_48c3_11ea_a665_cf398650fefdrow4_col3\" class=\"data row4 col3\" >-0.0269746</td>\n",
       "                        <td id=\"T_768066aa_48c3_11ea_a665_cf398650fefdrow4_col4\" class=\"data row4 col4\" >1</td>\n",
       "                        <td id=\"T_768066aa_48c3_11ea_a665_cf398650fefdrow4_col5\" class=\"data row4 col5\" >0.036408</td>\n",
       "                        <td id=\"T_768066aa_48c3_11ea_a665_cf398650fefdrow4_col6\" class=\"data row4 col6\" >0.0216917</td>\n",
       "                        <td id=\"T_768066aa_48c3_11ea_a665_cf398650fefdrow4_col7\" class=\"data row4 col7\" >-0.0133578</td>\n",
       "                        <td id=\"T_768066aa_48c3_11ea_a665_cf398650fefdrow4_col8\" class=\"data row4 col8\" >0.181201</td>\n",
       "                        <td id=\"T_768066aa_48c3_11ea_a665_cf398650fefdrow4_col9\" class=\"data row4 col9\" >-0.223827</td>\n",
       "                        <td id=\"T_768066aa_48c3_11ea_a665_cf398650fefdrow4_col10\" class=\"data row4 col10\" >-0.167068</td>\n",
       "            </tr>\n",
       "            <tr>\n",
       "                        <th id=\"T_768066aa_48c3_11ea_a665_cf398650fefdlevel0_row5\" class=\"row_heading level0 row5\" >degree</th>\n",
       "                        <td id=\"T_768066aa_48c3_11ea_a665_cf398650fefdrow5_col0\" class=\"data row5 col0\" >0.0445522</td>\n",
       "                        <td id=\"T_768066aa_48c3_11ea_a665_cf398650fefdrow5_col1\" class=\"data row5 col1\" >-0.0493727</td>\n",
       "                        <td id=\"T_768066aa_48c3_11ea_a665_cf398650fefdrow5_col2\" class=\"data row5 col2\" >0.028421</td>\n",
       "                        <td id=\"T_768066aa_48c3_11ea_a665_cf398650fefdrow5_col3\" class=\"data row5 col3\" >0.00651583</td>\n",
       "                        <td id=\"T_768066aa_48c3_11ea_a665_cf398650fefdrow5_col4\" class=\"data row5 col4\" >0.036408</td>\n",
       "                        <td id=\"T_768066aa_48c3_11ea_a665_cf398650fefdrow5_col5\" class=\"data row5 col5\" >1</td>\n",
       "                        <td id=\"T_768066aa_48c3_11ea_a665_cf398650fefdrow5_col6\" class=\"data row5 col6\" >-0.214717</td>\n",
       "                        <td id=\"T_768066aa_48c3_11ea_a665_cf398650fefdrow5_col7\" class=\"data row5 col7\" >0.0436796</td>\n",
       "                        <td id=\"T_768066aa_48c3_11ea_a665_cf398650fefdrow5_col8\" class=\"data row5 col8\" >0.061611</td>\n",
       "                        <td id=\"T_768066aa_48c3_11ea_a665_cf398650fefdrow5_col9\" class=\"data row5 col9\" >-0.0984242</td>\n",
       "                        <td id=\"T_768066aa_48c3_11ea_a665_cf398650fefdrow5_col10\" class=\"data row5 col10\" >0.0293106</td>\n",
       "            </tr>\n",
       "            <tr>\n",
       "                        <th id=\"T_768066aa_48c3_11ea_a665_cf398650fefdlevel0_row6\" class=\"row_heading level0 row6\" >otherqual</th>\n",
       "                        <td id=\"T_768066aa_48c3_11ea_a665_cf398650fefdrow6_col0\" class=\"data row6 col0\" >0.167129</td>\n",
       "                        <td id=\"T_768066aa_48c3_11ea_a665_cf398650fefdrow6_col1\" class=\"data row6 col1\" >0.264804</td>\n",
       "                        <td id=\"T_768066aa_48c3_11ea_a665_cf398650fefdrow6_col2\" class=\"data row6 col2\" >-0.04049</td>\n",
       "                        <td id=\"T_768066aa_48c3_11ea_a665_cf398650fefdrow6_col3\" class=\"data row6 col3\" >0.0070362</td>\n",
       "                        <td id=\"T_768066aa_48c3_11ea_a665_cf398650fefdrow6_col4\" class=\"data row6 col4\" >0.0216917</td>\n",
       "                        <td id=\"T_768066aa_48c3_11ea_a665_cf398650fefdrow6_col5\" class=\"data row6 col5\" >-0.214717</td>\n",
       "                        <td id=\"T_768066aa_48c3_11ea_a665_cf398650fefdrow6_col6\" class=\"data row6 col6\" >1</td>\n",
       "                        <td id=\"T_768066aa_48c3_11ea_a665_cf398650fefdrow6_col7\" class=\"data row6 col7\" >0.160311</td>\n",
       "                        <td id=\"T_768066aa_48c3_11ea_a665_cf398650fefdrow6_col8\" class=\"data row6 col8\" >0.0158332</td>\n",
       "                        <td id=\"T_768066aa_48c3_11ea_a665_cf398650fefdrow6_col9\" class=\"data row6 col9\" >-0.0766229</td>\n",
       "                        <td id=\"T_768066aa_48c3_11ea_a665_cf398650fefdrow6_col10\" class=\"data row6 col10\" >-0.0176389</td>\n",
       "            </tr>\n",
       "            <tr>\n",
       "                        <th id=\"T_768066aa_48c3_11ea_a665_cf398650fefdlevel0_row7\" class=\"row_heading level0 row7\" >position</th>\n",
       "                        <td id=\"T_768066aa_48c3_11ea_a665_cf398650fefdrow7_col0\" class=\"data row7 col0\" >0.701354</td>\n",
       "                        <td id=\"T_768066aa_48c3_11ea_a665_cf398650fefdrow7_col1\" class=\"data row7 col1\" >0.116596</td>\n",
       "                        <td id=\"T_768066aa_48c3_11ea_a665_cf398650fefdrow7_col2\" class=\"data row7 col2\" >0.746736</td>\n",
       "                        <td id=\"T_768066aa_48c3_11ea_a665_cf398650fefdrow7_col3\" class=\"data row7 col3\" >0.48521</td>\n",
       "                        <td id=\"T_768066aa_48c3_11ea_a665_cf398650fefdrow7_col4\" class=\"data row7 col4\" >-0.0133578</td>\n",
       "                        <td id=\"T_768066aa_48c3_11ea_a665_cf398650fefdrow7_col5\" class=\"data row7 col5\" >0.0436796</td>\n",
       "                        <td id=\"T_768066aa_48c3_11ea_a665_cf398650fefdrow7_col6\" class=\"data row7 col6\" >0.160311</td>\n",
       "                        <td id=\"T_768066aa_48c3_11ea_a665_cf398650fefdrow7_col7\" class=\"data row7 col7\" >1</td>\n",
       "                        <td id=\"T_768066aa_48c3_11ea_a665_cf398650fefdrow7_col8\" class=\"data row7 col8\" >0.318129</td>\n",
       "                        <td id=\"T_768066aa_48c3_11ea_a665_cf398650fefdrow7_col9\" class=\"data row7 col9\" >-0.288812</td>\n",
       "                        <td id=\"T_768066aa_48c3_11ea_a665_cf398650fefdrow7_col10\" class=\"data row7 col10\" >0.0297514</td>\n",
       "            </tr>\n",
       "            <tr>\n",
       "                        <th id=\"T_768066aa_48c3_11ea_a665_cf398650fefdlevel0_row8\" class=\"row_heading level0 row8\" >male</th>\n",
       "                        <td id=\"T_768066aa_48c3_11ea_a665_cf398650fefdrow8_col0\" class=\"data row8 col0\" >0.361447</td>\n",
       "                        <td id=\"T_768066aa_48c3_11ea_a665_cf398650fefdrow8_col1\" class=\"data row8 col1\" >0.0465577</td>\n",
       "                        <td id=\"T_768066aa_48c3_11ea_a665_cf398650fefdrow8_col2\" class=\"data row8 col2\" >0.278963</td>\n",
       "                        <td id=\"T_768066aa_48c3_11ea_a665_cf398650fefdrow8_col3\" class=\"data row8 col3\" >0.237787</td>\n",
       "                        <td id=\"T_768066aa_48c3_11ea_a665_cf398650fefdrow8_col4\" class=\"data row8 col4\" >0.181201</td>\n",
       "                        <td id=\"T_768066aa_48c3_11ea_a665_cf398650fefdrow8_col5\" class=\"data row8 col5\" >0.061611</td>\n",
       "                        <td id=\"T_768066aa_48c3_11ea_a665_cf398650fefdrow8_col6\" class=\"data row8 col6\" >0.0158332</td>\n",
       "                        <td id=\"T_768066aa_48c3_11ea_a665_cf398650fefdrow8_col7\" class=\"data row8 col7\" >0.318129</td>\n",
       "                        <td id=\"T_768066aa_48c3_11ea_a665_cf398650fefdrow8_col8\" class=\"data row8 col8\" >1</td>\n",
       "                        <td id=\"T_768066aa_48c3_11ea_a665_cf398650fefdrow8_col9\" class=\"data row8 col9\" >-0.128874</td>\n",
       "                        <td id=\"T_768066aa_48c3_11ea_a665_cf398650fefdrow8_col10\" class=\"data row8 col10\" >-0.622179</td>\n",
       "            </tr>\n",
       "            <tr>\n",
       "                        <th id=\"T_768066aa_48c3_11ea_a665_cf398650fefdlevel0_row9\" class=\"row_heading level0 row9\" >Field</th>\n",
       "                        <td id=\"T_768066aa_48c3_11ea_a665_cf398650fefdrow9_col0\" class=\"data row9 col0\" >-0.498485</td>\n",
       "                        <td id=\"T_768066aa_48c3_11ea_a665_cf398650fefdrow9_col1\" class=\"data row9 col1\" >-0.0483155</td>\n",
       "                        <td id=\"T_768066aa_48c3_11ea_a665_cf398650fefdrow9_col2\" class=\"data row9 col2\" >-0.261379</td>\n",
       "                        <td id=\"T_768066aa_48c3_11ea_a665_cf398650fefdrow9_col3\" class=\"data row9 col3\" >-0.263953</td>\n",
       "                        <td id=\"T_768066aa_48c3_11ea_a665_cf398650fefdrow9_col4\" class=\"data row9 col4\" >-0.223827</td>\n",
       "                        <td id=\"T_768066aa_48c3_11ea_a665_cf398650fefdrow9_col5\" class=\"data row9 col5\" >-0.0984242</td>\n",
       "                        <td id=\"T_768066aa_48c3_11ea_a665_cf398650fefdrow9_col6\" class=\"data row9 col6\" >-0.0766229</td>\n",
       "                        <td id=\"T_768066aa_48c3_11ea_a665_cf398650fefdrow9_col7\" class=\"data row9 col7\" >-0.288812</td>\n",
       "                        <td id=\"T_768066aa_48c3_11ea_a665_cf398650fefdrow9_col8\" class=\"data row9 col8\" >-0.128874</td>\n",
       "                        <td id=\"T_768066aa_48c3_11ea_a665_cf398650fefdrow9_col9\" class=\"data row9 col9\" >1</td>\n",
       "                        <td id=\"T_768066aa_48c3_11ea_a665_cf398650fefdrow9_col10\" class=\"data row9 col10\" >-0.000126793</td>\n",
       "            </tr>\n",
       "            <tr>\n",
       "                        <th id=\"T_768066aa_48c3_11ea_a665_cf398650fefdlevel0_row10\" class=\"row_heading level0 row10\" >yearsabs</th>\n",
       "                        <td id=\"T_768066aa_48c3_11ea_a665_cf398650fefdrow10_col0\" class=\"data row10 col0\" >-0.0696218</td>\n",
       "                        <td id=\"T_768066aa_48c3_11ea_a665_cf398650fefdrow10_col1\" class=\"data row10 col1\" >0.13238</td>\n",
       "                        <td id=\"T_768066aa_48c3_11ea_a665_cf398650fefdrow10_col2\" class=\"data row10 col2\" >0.0554682</td>\n",
       "                        <td id=\"T_768066aa_48c3_11ea_a665_cf398650fefdrow10_col3\" class=\"data row10 col3\" >0.0356316</td>\n",
       "                        <td id=\"T_768066aa_48c3_11ea_a665_cf398650fefdrow10_col4\" class=\"data row10 col4\" >-0.167068</td>\n",
       "                        <td id=\"T_768066aa_48c3_11ea_a665_cf398650fefdrow10_col5\" class=\"data row10 col5\" >0.0293106</td>\n",
       "                        <td id=\"T_768066aa_48c3_11ea_a665_cf398650fefdrow10_col6\" class=\"data row10 col6\" >-0.0176389</td>\n",
       "                        <td id=\"T_768066aa_48c3_11ea_a665_cf398650fefdrow10_col7\" class=\"data row10 col7\" >0.0297514</td>\n",
       "                        <td id=\"T_768066aa_48c3_11ea_a665_cf398650fefdrow10_col8\" class=\"data row10 col8\" >-0.622179</td>\n",
       "                        <td id=\"T_768066aa_48c3_11ea_a665_cf398650fefdrow10_col9\" class=\"data row10 col9\" >-0.000126793</td>\n",
       "                        <td id=\"T_768066aa_48c3_11ea_a665_cf398650fefdrow10_col10\" class=\"data row10 col10\" >1</td>\n",
       "            </tr>\n",
       "    </tbody></table>"
      ],
      "text/plain": [
       "<pandas.io.formats.style.Styler at 0x7f6a3a9a0c10>"
      ]
     },
     "execution_count": 442,
     "metadata": {},
     "output_type": "execute_result"
    }
   ],
   "source": [
    "import pandas as pd\n",
    "import numpy as np\n",
    "corr = data.corr()\n",
    "corr.style.background_gradient(cmap='coolwarm')"
   ]
  },
  {
   "cell_type": "markdown",
   "metadata": {},
   "source": [
    "*The above correlation map shows the strength and the direction\n",
    "of a linear relationship between two variables.\n",
    "From it we can tell which features are \n",
    "worth investigating with the intention to predict the salaries earned by individuals.\n",
    "The highest correlation with regards to salary is position followed by \n",
    "yearsworked then Years worked at current rank .*\n",
    "\n",
    "\n",
    "*Looking at Salary as our target variable and Yearsworked as the independent variable*"
   ]
  },
  {
   "cell_type": "markdown",
   "metadata": {},
   "source": [
    "## Splitting Data"
   ]
  },
  {
   "cell_type": "markdown",
   "metadata": {},
   "source": [
    "#### Labels and features."
   ]
  },
  {
   "cell_type": "code",
   "execution_count": 450,
   "metadata": {},
   "outputs": [],
   "source": [
    "y = data.salary\n",
    "x = data"
   ]
  },
  {
   "cell_type": "code",
   "execution_count": 451,
   "metadata": {},
   "outputs": [],
   "source": [
    "x_train,x_test,y_train,y_test = train_test_split(x,y,test_size=0.3,random_state=0)"
   ]
  },
  {
   "cell_type": "markdown",
   "metadata": {},
   "source": [
    "### Examining the training data"
   ]
  },
  {
   "cell_type": "code",
   "execution_count": 452,
   "metadata": {},
   "outputs": [
    {
     "data": {
      "text/html": [
       "<div>\n",
       "<style scoped>\n",
       "    .dataframe tbody tr th:only-of-type {\n",
       "        vertical-align: middle;\n",
       "    }\n",
       "\n",
       "    .dataframe tbody tr th {\n",
       "        vertical-align: top;\n",
       "    }\n",
       "\n",
       "    .dataframe thead th {\n",
       "        text-align: right;\n",
       "    }\n",
       "</style>\n",
       "<table border=\"1\" class=\"dataframe\">\n",
       "  <thead>\n",
       "    <tr style=\"text-align: right;\">\n",
       "      <th></th>\n",
       "      <th>salary</th>\n",
       "      <th>exprior</th>\n",
       "      <th>yearsworked</th>\n",
       "      <th>yearsrank</th>\n",
       "      <th>market</th>\n",
       "      <th>degree</th>\n",
       "      <th>otherqual</th>\n",
       "      <th>position</th>\n",
       "      <th>male</th>\n",
       "      <th>Field</th>\n",
       "      <th>yearsabs</th>\n",
       "    </tr>\n",
       "  </thead>\n",
       "  <tbody>\n",
       "    <tr>\n",
       "      <td>419</td>\n",
       "      <td>34603.0</td>\n",
       "      <td>0</td>\n",
       "      <td>6</td>\n",
       "      <td>4</td>\n",
       "      <td>0.79</td>\n",
       "      <td>1</td>\n",
       "      <td>0</td>\n",
       "      <td>1</td>\n",
       "      <td>0</td>\n",
       "      <td>2</td>\n",
       "      <td>1</td>\n",
       "    </tr>\n",
       "    <tr>\n",
       "      <td>135</td>\n",
       "      <td>53543.0</td>\n",
       "      <td>9</td>\n",
       "      <td>4</td>\n",
       "      <td>4</td>\n",
       "      <td>1.17</td>\n",
       "      <td>1</td>\n",
       "      <td>0</td>\n",
       "      <td>2</td>\n",
       "      <td>1</td>\n",
       "      <td>1</td>\n",
       "      <td>1</td>\n",
       "    </tr>\n",
       "    <tr>\n",
       "      <td>386</td>\n",
       "      <td>33800.0</td>\n",
       "      <td>0</td>\n",
       "      <td>0</td>\n",
       "      <td>0</td>\n",
       "      <td>0.84</td>\n",
       "      <td>1</td>\n",
       "      <td>0</td>\n",
       "      <td>1</td>\n",
       "      <td>0</td>\n",
       "      <td>3</td>\n",
       "      <td>4</td>\n",
       "    </tr>\n",
       "    <tr>\n",
       "      <td>122</td>\n",
       "      <td>49667.0</td>\n",
       "      <td>0</td>\n",
       "      <td>12</td>\n",
       "      <td>4</td>\n",
       "      <td>0.88</td>\n",
       "      <td>1</td>\n",
       "      <td>0</td>\n",
       "      <td>2</td>\n",
       "      <td>1</td>\n",
       "      <td>2</td>\n",
       "      <td>0</td>\n",
       "    </tr>\n",
       "    <tr>\n",
       "      <td>22</td>\n",
       "      <td>34731.0</td>\n",
       "      <td>1</td>\n",
       "      <td>1</td>\n",
       "      <td>1</td>\n",
       "      <td>0.85</td>\n",
       "      <td>1</td>\n",
       "      <td>0</td>\n",
       "      <td>1</td>\n",
       "      <td>1</td>\n",
       "      <td>4</td>\n",
       "      <td>3</td>\n",
       "    </tr>\n",
       "  </tbody>\n",
       "</table>\n",
       "</div>"
      ],
      "text/plain": [
       "      salary  exprior  yearsworked  yearsrank  market  degree  otherqual  \\\n",
       "419  34603.0        0            6          4    0.79       1          0   \n",
       "135  53543.0        9            4          4    1.17       1          0   \n",
       "386  33800.0        0            0          0    0.84       1          0   \n",
       "122  49667.0        0           12          4    0.88       1          0   \n",
       "22   34731.0        1            1          1    0.85       1          0   \n",
       "\n",
       "     position  male  Field  yearsabs  \n",
       "419         1     0      2         1  \n",
       "135         2     1      1         1  \n",
       "386         1     0      3         4  \n",
       "122         2     1      2         0  \n",
       "22          1     1      4         3  "
      ]
     },
     "execution_count": 452,
     "metadata": {},
     "output_type": "execute_result"
    }
   ],
   "source": [
    "x_train.head()"
   ]
  },
  {
   "cell_type": "markdown",
   "metadata": {},
   "source": [
    "#### unique values"
   ]
  },
  {
   "cell_type": "markdown",
   "metadata": {},
   "source": [
    "*The data has been examined at the beginning.There are no missing and null values in the training data set. The training data has 70% of the total Data set*"
   ]
  },
  {
   "cell_type": "markdown",
   "metadata": {},
   "source": [
    "### Inspecting the relationship between the desired target feature and independent feature"
   ]
  },
  {
   "cell_type": "markdown",
   "metadata": {},
   "source": [
    "#### The salaries earned and the years worked"
   ]
  },
  {
   "cell_type": "markdown",
   "metadata": {},
   "source": [
    "*Looking at the correlation and p-value to see if it is worth it to build a model.*"
   ]
  },
  {
   "cell_type": "code",
   "execution_count": 455,
   "metadata": {},
   "outputs": [
    {
     "data": {
      "text/plain": [
       "(0.6060480089102416, 2.266003579671186e-37)"
      ]
     },
     "execution_count": 455,
     "metadata": {},
     "output_type": "execute_result"
    }
   ],
   "source": [
    "stats.pearsonr(x_train['yearsworked'],x_train['salary'])"
   ]
  },
  {
   "cell_type": "markdown",
   "metadata": {},
   "source": [
    "*The correlation coefficient is 0.6060480089102416 which shows a positive relationship between the years worked*\n",
    "*Saying that the null hypothesis in this case is :*\n",
    "    **The relationship between years worked and salary is not statistically significant.**\n",
    "*The p-value is 1.274779518969558e-56 and p<0.005.*\n",
    "*This implies that the correlation coefficient is statistically \n",
    "significant and thus rejecting the null hypothesis.*"
   ]
  },
  {
   "cell_type": "markdown",
   "metadata": {},
   "source": [
    "*Due to the above findings, then it is worth it to build a linear regression model to predict the salaries earned by yearsworked.*"
   ]
  },
  {
   "cell_type": "markdown",
   "metadata": {},
   "source": [
    "### Looking at the histograms to see the distribution of the desired features"
   ]
  },
  {
   "cell_type": "code",
   "execution_count": 424,
   "metadata": {},
   "outputs": [
    {
     "data": {
      "text/plain": [
       "Text(0, 0.5, 'frequency')"
      ]
     },
     "execution_count": 424,
     "metadata": {},
     "output_type": "execute_result"
    },
    {
     "data": {
      "image/png": "[encoded data removed]",
      "text/plain": [
       "<Figure size 1440x432 with 2 Axes>"
      ]
     },
     "metadata": {
      "needs_background": "light"
     },
     "output_type": "display_data"
    }
   ],
   "source": [
    "f, axes = plt.subplots(1, 2,figsize=(20, 6))\n",
    "x_train['yearsworked'].hist(bins=50,ax=axes[0])\n",
    "x_train['salary'].hist(bins=50,ax=axes[1])\n",
    "axes[0].set_title('The histogram for years worked')\n",
    "axes[1].set_title('The histogram for salary')\n",
    "axes[0].set_xlabel('yearsworked')\n",
    "axes[1].set_xlabel('salary')\n",
    "axes[0].set_ylabel('frequency')\n",
    "axes[1].set_ylabel('frequency')"
   ]
  },
  {
   "cell_type": "markdown",
   "metadata": {},
   "source": [
    "*For years worked, there are potential outliers,which are above 40 years of experince in the current field.\n",
    "A lot of individuals have the work experince between 0 and 10 years followed  by between 20 and 32 years\n",
    "in their current field.*\n",
    "\n",
    "*For salaries earned \n",
    "the peak of salaries is between 37000 dollars and 43000 dollars.There are potential outliers in this data. \n",
    "This histogram simply shows that a lot of people earn between 35000 dollars and 47000 dollars. \n",
    "Then only a few earn between 83000 dollars and 89000 dollars.\n",
    "This few is most likey to be the excutive and a lot of people are holding junior positions*"
   ]
  },
  {
   "cell_type": "markdown",
   "metadata": {},
   "source": [
    "## Extreme values"
   ]
  },
  {
   "cell_type": "markdown",
   "metadata": {},
   "source": [
    "### Box plots"
   ]
  },
  {
   "cell_type": "code",
   "execution_count": 426,
   "metadata": {},
   "outputs": [
    {
     "data": {
      "text/plain": [
       "<matplotlib.axes._subplots.AxesSubplot at 0x7f6a3aff2fd0>"
      ]
     },
     "execution_count": 426,
     "metadata": {},
     "output_type": "execute_result"
    },
    {
     "data": {
      "image/png": "[encoded data removed]",
      "text/plain": [
       "<Figure size 1440x432 with 2 Axes>"
      ]
     },
     "metadata": {
      "needs_background": "light"
     },
     "output_type": "display_data"
    }
   ],
   "source": [
    "f, axes = plt.subplots(1, 2,figsize=(20, 6))\n",
    "sns.boxplot(x_train['salary'],ax=axes[0])\n",
    "sns.boxplot(x_train['yearsworked'],ax=axes[1])"
   ]
  },
  {
   "cell_type": "markdown",
   "metadata": {},
   "source": [
    "*The boxplot above shows that there is one extreme value of salary in the training data set.*\n",
    "*With that known, one can choose to remedy the outlier because it may skew the results*\n",
    "*The boxplot for years worked shows no evident outliers as the histogram has depicted.*"
   ]
  },
  {
   "cell_type": "markdown",
   "metadata": {},
   "source": [
    "*The outlier is on the further right which is most likely to be on the 99 percentile.*"
   ]
  },
  {
   "cell_type": "code",
   "execution_count": 456,
   "metadata": {},
   "outputs": [
    {
     "data": {
      "text/html": [
       "<div>\n",
       "<style scoped>\n",
       "    .dataframe tbody tr th:only-of-type {\n",
       "        vertical-align: middle;\n",
       "    }\n",
       "\n",
       "    .dataframe tbody tr th {\n",
       "        vertical-align: top;\n",
       "    }\n",
       "\n",
       "    .dataframe thead th {\n",
       "        text-align: right;\n",
       "    }\n",
       "</style>\n",
       "<table border=\"1\" class=\"dataframe\">\n",
       "  <thead>\n",
       "    <tr style=\"text-align: right;\">\n",
       "      <th></th>\n",
       "      <th>salary</th>\n",
       "      <th>exprior</th>\n",
       "      <th>yearsworked</th>\n",
       "      <th>yearsrank</th>\n",
       "      <th>market</th>\n",
       "      <th>degree</th>\n",
       "      <th>otherqual</th>\n",
       "      <th>position</th>\n",
       "      <th>male</th>\n",
       "      <th>Field</th>\n",
       "      <th>yearsabs</th>\n",
       "    </tr>\n",
       "  </thead>\n",
       "  <tbody>\n",
       "    <tr>\n",
       "      <td>377</td>\n",
       "      <td>96156.0</td>\n",
       "      <td>20</td>\n",
       "      <td>12</td>\n",
       "      <td>12</td>\n",
       "      <td>1.19</td>\n",
       "      <td>1</td>\n",
       "      <td>0</td>\n",
       "      <td>3</td>\n",
       "      <td>1</td>\n",
       "      <td>1</td>\n",
       "      <td>2</td>\n",
       "    </tr>\n",
       "  </tbody>\n",
       "</table>\n",
       "</div>"
      ],
      "text/plain": [
       "      salary  exprior  yearsworked  yearsrank  market  degree  otherqual  \\\n",
       "377  96156.0       20           12         12    1.19       1          0   \n",
       "\n",
       "     position  male  Field  yearsabs  \n",
       "377         3     1      1         2  "
      ]
     },
     "execution_count": 456,
     "metadata": {},
     "output_type": "execute_result"
    }
   ],
   "source": [
    "Q3 = x_train[\"salary\"].quantile(0.9999999)\n",
    "x_train[(x_train[\"salary\"] > Q3)]"
   ]
  },
  {
   "cell_type": "markdown",
   "metadata": {},
   "source": [
    "*The data points of the outlier are:* \n",
    "- earns 96156.0 dollars,\n",
    "- has 12 years of experince in this field,\n",
    "- has a degree \n",
    "- it is a man\n",
    "- and he is an executive"
   ]
  },
  {
   "cell_type": "markdown",
   "metadata": {},
   "source": [
    "### The scatter plot showing the relationship between salaries and years worked"
   ]
  },
  {
   "cell_type": "code",
   "execution_count": 269,
   "metadata": {},
   "outputs": [
    {
     "data": {
      "text/plain": [
       "<seaborn.axisgrid.FacetGrid at 0x7f6a3e207f90>"
      ]
     },
     "execution_count": 269,
     "metadata": {},
     "output_type": "execute_result"
    },
    {
     "data": {
      "image/png": "[encoded data removed]",
      "text/plain": [
       "<Figure size 360x360 with 1 Axes>"
      ]
     },
     "metadata": {
      "needs_background": "light"
     },
     "output_type": "display_data"
    }
   ],
   "source": [
    "sns.lmplot(x='yearsworked',y='salary',data=x_train)"
   ]
  },
  {
   "cell_type": "markdown",
   "metadata": {},
   "source": [
    "*The line of best fit shows a strong relationship between years worked and the salary earned. \n",
    "There are some outliers which are the furthest points from the line of best fit.*"
   ]
  },
  {
   "cell_type": "markdown",
   "metadata": {},
   "source": [
    "## Run a simple linear regression for Salary with one predictor variable: Years Worked."
   ]
  },
  {
   "cell_type": "code",
   "execution_count": 459,
   "metadata": {},
   "outputs": [],
   "source": [
    "model1 = smf.ols(formula='salary ~ yearsworked', data=x_train).fit()"
   ]
  },
  {
   "cell_type": "code",
   "execution_count": 460,
   "metadata": {},
   "outputs": [
    {
     "data": {
      "text/html": [
       "<table class=\"simpletable\">\n",
       "<caption>OLS Regression Results</caption>\n",
       "<tr>\n",
       "  <th>Dep. Variable:</th>         <td>salary</td>      <th>  R-squared:         </th> <td>   0.367</td>\n",
       "</tr>\n",
       "<tr>\n",
       "  <th>Model:</th>                   <td>OLS</td>       <th>  Adj. R-squared:    </th> <td>   0.366</td>\n",
       "</tr>\n",
       "<tr>\n",
       "  <th>Method:</th>             <td>Least Squares</td>  <th>  F-statistic:       </th> <td>   207.2</td>\n",
       "</tr>\n",
       "<tr>\n",
       "  <th>Date:</th>             <td>Thu, 06 Feb 2020</td> <th>  Prob (F-statistic):</th> <td>2.27e-37</td>\n",
       "</tr>\n",
       "<tr>\n",
       "  <th>Time:</th>                 <td>11:55:44</td>     <th>  Log-Likelihood:    </th> <td> -3825.5</td>\n",
       "</tr>\n",
       "<tr>\n",
       "  <th>No. Observations:</th>      <td>   359</td>      <th>  AIC:               </th> <td>   7655.</td>\n",
       "</tr>\n",
       "<tr>\n",
       "  <th>Df Residuals:</th>          <td>   357</td>      <th>  BIC:               </th> <td>   7663.</td>\n",
       "</tr>\n",
       "<tr>\n",
       "  <th>Df Model:</th>              <td>     1</td>      <th>                     </th>     <td> </td>   \n",
       "</tr>\n",
       "<tr>\n",
       "  <th>Covariance Type:</th>      <td>nonrobust</td>    <th>                     </th>     <td> </td>   \n",
       "</tr>\n",
       "</table>\n",
       "<table class=\"simpletable\">\n",
       "<tr>\n",
       "       <td></td>          <th>coef</th>     <th>std err</th>      <th>t</th>      <th>P>|t|</th>  <th>[0.025</th>    <th>0.975]</th>  \n",
       "</tr>\n",
       "<tr>\n",
       "  <th>Intercept</th>   <td> 4.058e+04</td> <td>  910.788</td> <td>   44.553</td> <td> 0.000</td> <td> 3.88e+04</td> <td> 4.24e+04</td>\n",
       "</tr>\n",
       "<tr>\n",
       "  <th>yearsworked</th> <td>  827.1461</td> <td>   57.457</td> <td>   14.396</td> <td> 0.000</td> <td>  714.150</td> <td>  940.143</td>\n",
       "</tr>\n",
       "</table>\n",
       "<table class=\"simpletable\">\n",
       "<tr>\n",
       "  <th>Omnibus:</th>       <td>59.682</td> <th>  Durbin-Watson:     </th> <td>   1.972</td>\n",
       "</tr>\n",
       "<tr>\n",
       "  <th>Prob(Omnibus):</th> <td> 0.000</td> <th>  Jarque-Bera (JB):  </th> <td>  87.799</td>\n",
       "</tr>\n",
       "<tr>\n",
       "  <th>Skew:</th>          <td> 1.064</td> <th>  Prob(JB):          </th> <td>8.61e-20</td>\n",
       "</tr>\n",
       "<tr>\n",
       "  <th>Kurtosis:</th>      <td> 4.158</td> <th>  Cond. No.          </th> <td>    26.6</td>\n",
       "</tr>\n",
       "</table><br/><br/>Warnings:<br/>[1] Standard Errors assume that the covariance matrix of the errors is correctly specified."
      ],
      "text/plain": [
       "<class 'statsmodels.iolib.summary.Summary'>\n",
       "\"\"\"\n",
       "                            OLS Regression Results                            \n",
       "==============================================================================\n",
       "Dep. Variable:                 salary   R-squared:                       0.367\n",
       "Model:                            OLS   Adj. R-squared:                  0.366\n",
       "Method:                 Least Squares   F-statistic:                     207.2\n",
       "Date:                Thu, 06 Feb 2020   Prob (F-statistic):           2.27e-37\n",
       "Time:                        11:55:44   Log-Likelihood:                -3825.5\n",
       "No. Observations:                 359   AIC:                             7655.\n",
       "Df Residuals:                     357   BIC:                             7663.\n",
       "Df Model:                           1                                         \n",
       "Covariance Type:            nonrobust                                         \n",
       "===============================================================================\n",
       "                  coef    std err          t      P>|t|      [0.025      0.975]\n",
       "-------------------------------------------------------------------------------\n",
       "Intercept    4.058e+04    910.788     44.553      0.000    3.88e+04    4.24e+04\n",
       "yearsworked   827.1461     57.457     14.396      0.000     714.150     940.143\n",
       "==============================================================================\n",
       "Omnibus:                       59.682   Durbin-Watson:                   1.972\n",
       "Prob(Omnibus):                  0.000   Jarque-Bera (JB):               87.799\n",
       "Skew:                           1.064   Prob(JB):                     8.61e-20\n",
       "Kurtosis:                       4.158   Cond. No.                         26.6\n",
       "==============================================================================\n",
       "\n",
       "Warnings:\n",
       "[1] Standard Errors assume that the covariance matrix of the errors is correctly specified.\n",
       "\"\"\""
      ]
     },
     "execution_count": 460,
     "metadata": {},
     "output_type": "execute_result"
    }
   ],
   "source": [
    "model1.summary()"
   ]
  },
  {
   "cell_type": "markdown",
   "metadata": {},
   "source": [
    "## Report the amount of variance explained (R^2) and significance value (p)"
   ]
  },
  {
   "cell_type": "code",
   "execution_count": 280,
   "metadata": {},
   "outputs": [
    {
     "name": "stdout",
     "output_type": "stream",
     "text": [
      "R-squared is: 0.3672941891040684\n"
     ]
    }
   ],
   "source": [
    "print('R-squared is:',model1.rsquared)"
   ]
  },
  {
   "cell_type": "markdown",
   "metadata": {},
   "source": [
    "#### What percentage of the variance in employees’ salaries is accounted for by the number of years they have worked?"
   ]
  },
  {
   "cell_type": "markdown",
   "metadata": {},
   "source": [
    "*It reveals that about 37% of the data fit the regression model.*"
   ]
  },
  {
   "cell_type": "code",
   "execution_count": 466,
   "metadata": {},
   "outputs": [
    {
     "name": "stdout",
     "output_type": "stream",
     "text": [
      "The p-value for the regression is: 2.266003579671641e-37\n"
     ]
    }
   ],
   "source": [
    "print('The p-value for the regression is:', model1.f_pvalue)"
   ]
  },
  {
   "cell_type": "markdown",
   "metadata": {},
   "source": [
    "*Prob(F) statistics test the overall significance of the regression model.*\n",
    "*The value of Prob(F) is the probability that the null hypothesis for the full model is true.*\n",
    "*The null hypothesisis that:*\n",
    "**All of the regression coefficients are zero.**\n",
    "**The Prob (F-statistic) value is: 2.27e-37<0.05.**\n",
    "*This low a value would imply that at least some of the regression parameters are nonzero and that\n",
    "the regression equation does have some validity in fitting the data.* \n",
    "**Therefore the null hypothesis can be rejected.**"
   ]
  },
  {
   "cell_type": "markdown",
   "metadata": {},
   "source": [
    "## Does the model significantly predict the dependent variable? \n"
   ]
  },
  {
   "cell_type": "markdown",
   "metadata": {},
   "source": [
    "*For this model there is a low R-square and low p-value.*\n",
    "*This means that the model doesn't explain much of variation of\n",
    "the data but it is significant which is better than not having a model.*"
   ]
  },
  {
   "cell_type": "markdown",
   "metadata": {},
   "source": [
    "## What do the 95% confidence intervals [0.025, 0.975] mean?"
   ]
  },
  {
   "cell_type": "markdown",
   "metadata": {},
   "source": [
    "**A 95% confidence interval is a range of values that you can be 95% certain\n",
    "that it contains the true mean of the population.**\n",
    "*Idealy, with regards to the interval,the true population mean value should be on that interval.*\n",
    "*If a confidence interval does not include a particular value,*\n",
    "*we can say that it is not likely that the particular value is the true population mean.*\n",
    "*However, even if a particular value is within the interval,*\n",
    "*we shouldn't conclude that the population mean equals that specific value.*\n"
   ]
  },
  {
   "cell_type": "markdown",
   "metadata": {},
   "source": [
    "*The confidence interval can also be used for coefficients of the regression model*\n",
    "*Use the confidence interval to assess the estimate of the population coefficient for each term in the model.*"
   ]
  },
  {
   "cell_type": "markdown",
   "metadata": {},
   "source": [
    "*The coefficient for the years worked is 827.1461.*\n",
    "*The 95% confidence interval is [714.150,940.143].*\n",
    "*The coefficient falls on the interval.*\n",
    "*You can be 95% confident that the confidence interval contains the value of the coefficient for the population.*\n",
    "\n",
    "*The same applies for the constant coefficient.*"
   ]
  },
  {
   "cell_type": "markdown",
   "metadata": {},
   "source": [
    "## What does the unstandardized coefficient (B or ‘coef’ in statsmodels) tell you about the relationship between Years Worked and Salary?"
   ]
  },
  {
   "cell_type": "markdown",
   "metadata": {},
   "source": [
    "*The coefficient of 827.1461 means that as the yerasworked variable increases by 1 year, \n",
    "the predicted value of salaries increases by 827.1461 dollars,\n",
    "i.e using units of the observed values to see the relationship.*"
   ]
  },
  {
   "cell_type": "markdown",
   "metadata": {},
   "source": [
    "## Expected salary for someone with 12 years’ work experience."
   ]
  },
  {
   "cell_type": "code",
   "execution_count": 467,
   "metadata": {},
   "outputs": [
    {
     "name": "stdout",
     "output_type": "stream",
     "text": [
      "The expected salary of a person with 12 years experience is: 50503.900803185854 dollars\n"
     ]
    }
   ],
   "source": [
    "experience = pd.DataFrame({'yearsworked':[12]})\n",
    "predict_salary=model1.predict(experience)\n",
    "p=predict_salary.iloc[0]\n",
    "print('The expected salary of a person with 12 years experience is:',p,'dollars')\n"
   ]
  },
  {
   "cell_type": "markdown",
   "metadata": {},
   "source": [
    "## The expected salary for someone with 80 years’ work experience."
   ]
  },
  {
   "cell_type": "code",
   "execution_count": 468,
   "metadata": {},
   "outputs": [
    {
     "name": "stdout",
     "output_type": "stream",
     "text": [
      "The expected salary of a person with 80 years experience is: 106749.83660639207 dollars\n"
     ]
    }
   ],
   "source": [
    "experience = pd.DataFrame({'yearsworked':[80]})\n",
    "predict_salary=model1.predict(experience)\n",
    "p=predict_salary.iloc[0]\n",
    "print('The expected salary of a person with 80 years experience is:',p,'dollars')"
   ]
  },
  {
   "cell_type": "markdown",
   "metadata": {},
   "source": [
    "## Are there any problems with this prediction? If so, what are they?"
   ]
  },
  {
   "cell_type": "markdown",
   "metadata": {},
   "source": [
    "*There were no problems to make this prediction which is a concern because 80 years\n",
    "of experince is a rare value prediction in this Regression.\n",
    "What does this mean for the predictive model?*"
   ]
  },
  {
   "cell_type": "markdown",
   "metadata": {},
   "source": [
    "## We have only looked at the number of years an employee has worked. What other employee characteristics might influence their salary?"
   ]
  },
  {
   "cell_type": "markdown",
   "metadata": {},
   "source": [
    "*By the correlation map shown in the beginning, the feature that has a good correlation with salary, \n",
    "which is even better than the years worked is position.\n",
    "Years worked at current rank also has a good correlation with salary. \n",
    "The rest of the features have less than 50% correlation with salary.\n",
    "It would not make sense to build a model with features that have no or a very weak relationship with salary*"
   ]
  },
  {
   "cell_type": "markdown",
   "metadata": {},
   "source": [
    "## Now fit the model to the test set."
   ]
  },
  {
   "cell_type": "markdown",
   "metadata": {},
   "source": [
    "#### How does your model compare when running it on the test set - what is the difference in the Root Mean Square Error (RMSE) between the training and test sets? Is there any evidence of overfitting?"
   ]
  },
  {
   "cell_type": "code",
   "execution_count": 469,
   "metadata": {},
   "outputs": [],
   "source": [
    "predicted=model1.predict(x_test)\n",
    "predict = pd.DataFrame(predicted,columns =['Predicted salary'])\n",
    "result = pd.concat([y_test, predict], axis=1, sort=False)"
   ]
  },
  {
   "cell_type": "code",
   "execution_count": 470,
   "metadata": {},
   "outputs": [
    {
     "data": {
      "text/html": [
       "<div>\n",
       "<style scoped>\n",
       "    .dataframe tbody tr th:only-of-type {\n",
       "        vertical-align: middle;\n",
       "    }\n",
       "\n",
       "    .dataframe tbody tr th {\n",
       "        vertical-align: top;\n",
       "    }\n",
       "\n",
       "    .dataframe thead th {\n",
       "        text-align: right;\n",
       "    }\n",
       "</style>\n",
       "<table border=\"1\" class=\"dataframe\">\n",
       "  <thead>\n",
       "    <tr style=\"text-align: right;\">\n",
       "      <th></th>\n",
       "      <th>salary</th>\n",
       "      <th>Predicted salary</th>\n",
       "    </tr>\n",
       "  </thead>\n",
       "  <tbody>\n",
       "    <tr>\n",
       "      <td>283</td>\n",
       "      <td>62091.00000</td>\n",
       "      <td>59602.508065</td>\n",
       "    </tr>\n",
       "    <tr>\n",
       "      <td>100</td>\n",
       "      <td>42482.00000</td>\n",
       "      <td>48022.462459</td>\n",
       "    </tr>\n",
       "    <tr>\n",
       "      <td>37</td>\n",
       "      <td>46292.00000</td>\n",
       "      <td>42232.439656</td>\n",
       "    </tr>\n",
       "    <tr>\n",
       "      <td>46</td>\n",
       "      <td>59110.00000</td>\n",
       "      <td>43886.731885</td>\n",
       "    </tr>\n",
       "    <tr>\n",
       "      <td>375</td>\n",
       "      <td>89789.00000</td>\n",
       "      <td>58775.361951</td>\n",
       "    </tr>\n",
       "    <tr>\n",
       "      <td>...</td>\n",
       "      <td>...</td>\n",
       "      <td>...</td>\n",
       "    </tr>\n",
       "    <tr>\n",
       "      <td>326</td>\n",
       "      <td>53686.00000</td>\n",
       "      <td>66219.676983</td>\n",
       "    </tr>\n",
       "    <tr>\n",
       "      <td>249</td>\n",
       "      <td>69374.00000</td>\n",
       "      <td>62083.946410</td>\n",
       "    </tr>\n",
       "    <tr>\n",
       "      <td>254</td>\n",
       "      <td>70101.78125</td>\n",
       "      <td>59602.508065</td>\n",
       "    </tr>\n",
       "    <tr>\n",
       "      <td>5</td>\n",
       "      <td>56000.00000</td>\n",
       "      <td>40578.147426</td>\n",
       "    </tr>\n",
       "    <tr>\n",
       "      <td>141</td>\n",
       "      <td>45032.00000</td>\n",
       "      <td>51331.046918</td>\n",
       "    </tr>\n",
       "  </tbody>\n",
       "</table>\n",
       "<p>155 rows × 2 columns</p>\n",
       "</div>"
      ],
      "text/plain": [
       "          salary  Predicted salary\n",
       "283  62091.00000      59602.508065\n",
       "100  42482.00000      48022.462459\n",
       "37   46292.00000      42232.439656\n",
       "46   59110.00000      43886.731885\n",
       "375  89789.00000      58775.361951\n",
       "..           ...               ...\n",
       "326  53686.00000      66219.676983\n",
       "249  69374.00000      62083.946410\n",
       "254  70101.78125      59602.508065\n",
       "5    56000.00000      40578.147426\n",
       "141  45032.00000      51331.046918\n",
       "\n",
       "[155 rows x 2 columns]"
      ]
     },
     "execution_count": 470,
     "metadata": {},
     "output_type": "execute_result"
    }
   ],
   "source": [
    "result"
   ]
  },
  {
   "cell_type": "markdown",
   "metadata": {},
   "source": [
    "*Above is the dataframe that shows the actual salaries and the predicted salaries. \n",
    "They are different from each other.*"
   ]
  },
  {
   "cell_type": "code",
   "execution_count": 471,
   "metadata": {},
   "outputs": [],
   "source": [
    "from sklearn.metrics import mean_squared_error\n",
    "from math import sqrt"
   ]
  },
  {
   "cell_type": "code",
   "execution_count": 473,
   "metadata": {},
   "outputs": [
    {
     "name": "stdout",
     "output_type": "stream",
     "text": [
      "The RMSE for test set is: 9012.148714524605\n"
     ]
    }
   ],
   "source": [
    "r=mean_squared_error(y_test,predict)\n",
    "p=sqrt(r)\n",
    "print('The RMSE for test set is:',p)"
   ]
  },
  {
   "cell_type": "markdown",
   "metadata": {},
   "source": [
    "*For a datum which ranges from 30001.0 to 89789.0 , an RMSE of 9012.148714524605 is small* "
   ]
  },
  {
   "cell_type": "code",
   "execution_count": 474,
   "metadata": {},
   "outputs": [],
   "source": [
    "predicted=model1.predict(x_train)"
   ]
  },
  {
   "cell_type": "code",
   "execution_count": 476,
   "metadata": {},
   "outputs": [
    {
     "name": "stdout",
     "output_type": "stream",
     "text": [
      "The RMSE for train set is: 10271.059383932115\n"
     ]
    }
   ],
   "source": [
    "y=mean_squared_error(y_train,predicted)\n",
    "x=sqrt(y)\n",
    "print('The RMSE for train set is:',x)"
   ]
  },
  {
   "cell_type": "markdown",
   "metadata": {},
   "source": [
    "*For a datum which ranges from 29000.0 to 96156.0 , an RMSE of 10271.059383932115 is small.*"
   ]
  },
  {
   "cell_type": "code",
   "execution_count": null,
   "metadata": {},
   "outputs": [],
   "source": [
    "*RMSE measures the average magnitude of the error, therefore it is ideal for the error to be small.\n",
    "The test set has a very low average error of 9012.148714524605 as compared to the\n",
    "train set average error of 10271.059383932115. This explains that there is a huge difference between the two.\n",
    "This could be that the test set is very small.\n",
    "The model doesn’t predict new observations as well as it fits the original dataset. \n",
    "The results are not generalizable, and there’s a good chance that the model is overfitted.*"
   ]
  },
  {
   "cell_type": "code",
   "execution_count": null,
   "metadata": {},
   "outputs": [],
   "source": []
  },
  {
   "cell_type": "code",
   "execution_count": null,
   "metadata": {},
   "outputs": [],
   "source": [
    "The model doesn’t predict new observations as well as it fits the original dataset. \n",
    "The results are not generalizable, and there’s a good chance that the model is overfitted."
   ]
  }
 ],
 "metadata": {
  "kernelspec": {
   "display_name": "Python 3",
   "language": "python",
   "name": "python3"
  },
  "language_info": {
   "codemirror_mode": {
    "name": "ipython",
    "version": 3
   },
   "file_extension": ".py",
   "mimetype": "text/x-python",
   "name": "python",
   "nbconvert_exporter": "python",
   "pygments_lexer": "ipython3",
   "version": "3.7.4"
  }
 },
 "nbformat": 4,
 "nbformat_minor": 2
}
